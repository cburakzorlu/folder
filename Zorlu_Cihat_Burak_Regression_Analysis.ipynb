{
 "cells": [
  {
   "cell_type": "markdown",
   "metadata": {},
   "source": [
    "## DAT 5303 MACHINE LEARNING COURSE CASE: APPRENTICE CHEF \n",
    "\n",
    "**Made by**: Cihat Burak Zorlu, MSBA-2 \n",
    "**Date**: 18 January 2021"
   ]
  },
  {
   "cell_type": "markdown",
   "metadata": {},
   "source": [
    "Importing All necessary Tools and Libraries"
   ]
  },
  {
   "cell_type": "code",
   "execution_count": 1,
   "metadata": {
    "code_folding": []
   },
   "outputs": [],
   "source": [
    "import pandas as pd # data science essentials\n",
    "import matplotlib.pyplot as plt # data visualization\n",
    "import seaborn as sns # enhanced data visualization\n",
    "import numpy as np # mathematical essentials\n",
    "import statsmodels.formula.api as smf # predictive modeling with nice outputs\n",
    "import random as rand # random number generation\n",
    "from sklearn.model_selection import train_test_split # train test split tool\n",
    "from sklearn.linear_model import LinearRegression, Lasso, ARDRegression # regression equations\n",
    "from sklearn.neighbors import KNeighborsRegressor # KNN for Regression\n",
    "from sklearn.preprocessing import StandardScaler # Standard Scaler"
   ]
  },
  {
   "cell_type": "code",
   "execution_count": 2,
   "metadata": {},
   "outputs": [],
   "source": [
    "# setting pandas print options\n",
    "pd.set_option('display.max_rows', 500)\n",
    "pd.set_option('display.max_columns', 500)\n",
    "pd.set_option('display.width', 1000)\n",
    "file = \"./Apprentice_Chef_Dataset.xlsx\""
   ]
  },
  {
   "cell_type": "code",
   "execution_count": 3,
   "metadata": {},
   "outputs": [],
   "source": [
    "df_chef = pd.read_excel(file)"
   ]
  },
  {
   "cell_type": "code",
   "execution_count": 4,
   "metadata": {},
   "outputs": [
    {
     "name": "stdout",
     "output_type": "stream",
     "text": [
      "\n",
      "Size of Apprentice Chef Dataset\n",
      "------------------------\n",
      "Observations: 1946\n",
      "Features:     28\n",
      "\n"
     ]
    }
   ],
   "source": [
    "# formatting and printing the dimensions of the original dataset\n",
    "print(f\"\"\"\n",
    "Size of Apprentice Chef Dataset\n",
    "------------------------\n",
    "Observations: {df_chef.shape[0]}\n",
    "Features:     {df_chef.shape[1]}\n",
    "\"\"\")"
   ]
  },
  {
   "cell_type": "code",
   "execution_count": 5,
   "metadata": {},
   "outputs": [
    {
     "name": "stdout",
     "output_type": "stream",
     "text": [
      "<class 'pandas.core.frame.DataFrame'>\n",
      "RangeIndex: 1946 entries, 0 to 1945\n",
      "Data columns (total 28 columns):\n",
      " #   Column                       Non-Null Count  Dtype  \n",
      "---  ------                       --------------  -----  \n",
      " 0   REVENUE                      1946 non-null   float64\n",
      " 1   CROSS_SELL_SUCCESS           1946 non-null   int64  \n",
      " 2   NAME                         1946 non-null   object \n",
      " 3   EMAIL                        1946 non-null   object \n",
      " 4   FIRST_NAME                   1946 non-null   object \n",
      " 5   FAMILY_NAME                  1899 non-null   object \n",
      " 6   TOTAL_MEALS_ORDERED          1946 non-null   int64  \n",
      " 7   UNIQUE_MEALS_PURCH           1946 non-null   int64  \n",
      " 8   CONTACTS_W_CUSTOMER_SERVICE  1946 non-null   int64  \n",
      " 9   PRODUCT_CATEGORIES_VIEWED    1946 non-null   int64  \n",
      " 10  AVG_TIME_PER_SITE_VISIT      1946 non-null   float64\n",
      " 11  MOBILE_NUMBER                1946 non-null   int64  \n",
      " 12  CANCELLATIONS_BEFORE_NOON    1946 non-null   int64  \n",
      " 13  CANCELLATIONS_AFTER_NOON     1946 non-null   int64  \n",
      " 14  TASTES_AND_PREFERENCES       1946 non-null   int64  \n",
      " 15  PC_LOGINS                    1946 non-null   int64  \n",
      " 16  MOBILE_LOGINS                1946 non-null   int64  \n",
      " 17  WEEKLY_PLAN                  1946 non-null   int64  \n",
      " 18  EARLY_DELIVERIES             1946 non-null   int64  \n",
      " 19  LATE_DELIVERIES              1946 non-null   int64  \n",
      " 20  PACKAGE_LOCKER               1946 non-null   int64  \n",
      " 21  REFRIGERATED_LOCKER          1946 non-null   int64  \n",
      " 22  AVG_PREP_VID_TIME            1946 non-null   float64\n",
      " 23  LARGEST_ORDER_SIZE           1946 non-null   int64  \n",
      " 24  MASTER_CLASSES_ATTENDED      1946 non-null   int64  \n",
      " 25  MEDIAN_MEAL_RATING           1946 non-null   int64  \n",
      " 26  AVG_CLICKS_PER_VISIT         1946 non-null   int64  \n",
      " 27  TOTAL_PHOTOS_VIEWED          1946 non-null   int64  \n",
      "dtypes: float64(3), int64(21), object(4)\n",
      "memory usage: 425.8+ KB\n"
     ]
    }
   ],
   "source": [
    "#getting the required information about the each column/variable/feature\n",
    "df_chef.info()"
   ]
  },
  {
   "cell_type": "markdown",
   "metadata": {},
   "source": [
    "For further investigation and analysis, Apprentice Chef data was uploaded and started running. First of all we need to identify the problem. In order to fully embrace and tackle the problem we need to understand our observations and features. \"df_chef.info()\" function allowed me to understand the features' types. "
   ]
  },
  {
   "cell_type": "code",
   "execution_count": 6,
   "metadata": {},
   "outputs": [
    {
     "data": {
      "text/plain": [
       "count    1946.00\n",
       "mean     2107.29\n",
       "std      1138.29\n",
       "min       131.00\n",
       "25%      1350.00\n",
       "50%      1740.00\n",
       "75%      2670.00\n",
       "max      8793.75\n",
       "Name: REVENUE, dtype: float64"
      ]
     },
     "execution_count": 6,
     "metadata": {},
     "output_type": "execute_result"
    }
   ],
   "source": [
    "#rather than plotting a graph, to benefit from time, \n",
    "#using describe would also inform me about the skeweness of the REVENUE\n",
    "#we can say that REVENUE has a positive skew, which means that it's mean is higher than it's median \n",
    "df_chef[\"REVENUE\"].describe().round(decimals = 2)"
   ]
  },
  {
   "cell_type": "code",
   "execution_count": 7,
   "metadata": {},
   "outputs": [
    {
     "data": {
      "text/plain": [
       "REVENUE                        1.00\n",
       "TOTAL_MEALS_ORDERED            0.60\n",
       "TOTAL_PHOTOS_VIEWED            0.47\n",
       "CONTACTS_W_CUSTOMER_SERVICE    0.10\n",
       "UNIQUE_MEALS_PURCH            -0.06\n",
       "AVG_CLICKS_PER_VISIT          -0.55\n",
       "Name: REVENUE, dtype: float64"
      ]
     },
     "execution_count": 7,
     "metadata": {},
     "output_type": "execute_result"
    }
   ],
   "source": [
    "continuous_data = [\"REVENUE\",  \"TOTAL_MEALS_ORDERED\", \n",
    "                    \"UNIQUE_MEALS_PURCH\", \"CONTACTS_W_CUSTOMER_SERVICE\",  \n",
    "                    \"AVG_CLICKS_PER_VISIT\", \"TOTAL_PHOTOS_VIEWED\" ]\n",
    "\n",
    "chef_corr = df_chef[continuous_data].corr(\"pearson\")\n",
    "chef_corr.loc[ : , \"REVENUE\"].round(decimals = 2).sort_values(ascending = False)"
   ]
  },
  {
   "cell_type": "markdown",
   "metadata": {},
   "source": [
    "### BASIC MODEL "
   ]
  },
  {
   "cell_type": "markdown",
   "metadata": {},
   "source": [
    "I have identified some of the important features, from my perspective, which might have correlation with our Y-variable which is Revenue. I have selected and started my analysis of the data with some continuous variables such as; Total meals ordered, total photos viewed, contacts with customer service, unique meal purchases and average click per visit. I have run a correlation which targets \"Revenue\". Correlation results allowed me to understand my model and lead me into my basic model. "
   ]
  },
  {
   "cell_type": "code",
   "execution_count": 8,
   "metadata": {
    "scrolled": true
   },
   "outputs": [
    {
     "name": "stdout",
     "output_type": "stream",
     "text": [
      "                            OLS Regression Results                            \n",
      "==============================================================================\n",
      "Dep. Variable:                REVENUE   R-squared:                       0.361\n",
      "Model:                            OLS   Adj. R-squared:                  0.360\n",
      "Method:                 Least Squares   F-statistic:                     1096.\n",
      "Date:                Mon, 18 Jan 2021   Prob (F-statistic):          4.99e-191\n",
      "Time:                        23:13:06   Log-Likelihood:                -16020.\n",
      "No. Observations:                1946   AIC:                         3.204e+04\n",
      "Df Residuals:                    1944   BIC:                         3.206e+04\n",
      "Df Model:                           1                                         \n",
      "Covariance Type:            nonrobust                                         \n",
      "=======================================================================================\n",
      "                          coef    std err          t      P>|t|      [0.025      0.975]\n",
      "---------------------------------------------------------------------------------------\n",
      "Intercept            1184.9468     34.669     34.179      0.000    1116.954    1252.940\n",
      "TOTAL_MEALS_ORDERED    12.3582      0.373     33.110      0.000      11.626      13.090\n",
      "==============================================================================\n",
      "Omnibus:                      721.098   Durbin-Watson:                   1.831\n",
      "Prob(Omnibus):                  0.000   Jarque-Bera (JB):             3535.059\n",
      "Skew:                           1.698   Prob(JB):                         0.00\n",
      "Kurtosis:                       8.663   Cond. No.                         156.\n",
      "==============================================================================\n",
      "\n",
      "Warnings:\n",
      "[1] Standard Errors assume that the covariance matrix of the errors is correctly specified.\n"
     ]
    }
   ],
   "source": [
    "#Creating a base model with Y-Variable as Revenue and X-Variable as Total meals ordered\n",
    "#which has the highest correlation \n",
    "#INSTANTIATE a model object\n",
    "lm_1 = smf.ols(formula = \"\"\"REVENUE ~ TOTAL_MEALS_ORDERED\"\"\",\n",
    "                  data = df_chef)\n",
    "# FIT the data into the model object\n",
    "results_lm1 = lm_1.fit()\n",
    "# analyze the SUMMARY output\n",
    "print(results_lm1.summary())"
   ]
  },
  {
   "cell_type": "markdown",
   "metadata": {},
   "source": [
    "From the basic analysis of only with Total meals ordered, which has the highest correlation with the Revenue, we can say that even though our p value is statistically significant, our model is not very good because of the adjusted R^2 score of 0.36. We can say that our basic model cannot fully answer our question. "
   ]
  },
  {
   "cell_type": "code",
   "execution_count": 9,
   "metadata": {},
   "outputs": [
    {
     "name": "stdout",
     "output_type": "stream",
     "text": [
      "                            OLS Regression Results                            \n",
      "==============================================================================\n",
      "Dep. Variable:                REVENUE   R-squared:                       0.619\n",
      "Model:                            OLS   Adj. R-squared:                  0.617\n",
      "Method:                 Least Squares   F-statistic:                     393.1\n",
      "Date:                Mon, 18 Jan 2021   Prob (F-statistic):               0.00\n",
      "Time:                        23:13:07   Log-Likelihood:                -15517.\n",
      "No. Observations:                1946   AIC:                         3.105e+04\n",
      "Df Residuals:                    1937   BIC:                         3.110e+04\n",
      "Df Model:                           8                                         \n",
      "Covariance Type:            nonrobust                                         \n",
      "===============================================================================================\n",
      "                                  coef    std err          t      P>|t|      [0.025      0.975]\n",
      "-----------------------------------------------------------------------------------------------\n",
      "Intercept                    -759.2393     89.113     -8.520      0.000    -934.007    -584.471\n",
      "TOTAL_MEALS_ORDERED             5.1827      0.357     14.515      0.000       4.482       5.883\n",
      "CONTACTS_W_CUSTOMER_SERVICE    41.5677      7.117      5.840      0.000      27.609      55.526\n",
      "AVG_PREP_VID_TIME               9.5429      0.645     14.806      0.000       8.279      10.807\n",
      "TOTAL_PHOTOS_VIEWED             0.7227      0.101      7.140      0.000       0.524       0.921\n",
      "MEDIAN_MEAL_RATING            397.5806     26.039     15.269      0.000     346.513     448.648\n",
      "MASTER_CLASSES_ATTENDED       177.6569     29.086      6.108      0.000     120.614     234.700\n",
      "LARGEST_ORDER_SIZE            -98.7392     17.456     -5.657      0.000    -132.973     -64.505\n",
      "AVG_TIME_PER_SITE_VISIT        -1.0510      0.268     -3.916      0.000      -1.577      -0.525\n",
      "==============================================================================\n",
      "Omnibus:                      802.706   Durbin-Watson:                   2.019\n",
      "Prob(Omnibus):                  0.000   Jarque-Bera (JB):             8939.024\n",
      "Skew:                           1.623   Prob(JB):                         0.00\n",
      "Kurtosis:                      12.985   Cond. No.                     1.49e+03\n",
      "==============================================================================\n",
      "\n",
      "Warnings:\n",
      "[1] Standard Errors assume that the covariance matrix of the errors is correctly specified.\n",
      "[2] The condition number is large, 1.49e+03. This might indicate that there are\n",
      "strong multicollinearity or other numerical problems.\n"
     ]
    }
   ],
   "source": [
    "lm_2 = smf.ols(formula = \"\"\"REVENUE ~ TOTAL_MEALS_ORDERED +\n",
    "                    CONTACTS_W_CUSTOMER_SERVICE + AVG_PREP_VID_TIME + \n",
    "                    TOTAL_PHOTOS_VIEWED + MEDIAN_MEAL_RATING + MASTER_CLASSES_ATTENDED + \n",
    "                    LARGEST_ORDER_SIZE + AVG_TIME_PER_SITE_VISIT\"\"\", \n",
    "              data = df_chef)\n",
    "results_lm2 = lm_2.fit()\n",
    "print(results_lm2.summary())"
   ]
  },
  {
   "cell_type": "markdown",
   "metadata": {},
   "source": [
    "Our base model become better with adjusted R^2 of 0.617 while all of my variables are statistically significant. "
   ]
  },
  {
   "cell_type": "code",
   "execution_count": 10,
   "metadata": {},
   "outputs": [
    {
     "data": {
      "text/plain": [
       "REVENUE                         0\n",
       "CROSS_SELL_SUCCESS              0\n",
       "NAME                            0\n",
       "EMAIL                           0\n",
       "FIRST_NAME                      0\n",
       "FAMILY_NAME                    47\n",
       "TOTAL_MEALS_ORDERED             0\n",
       "UNIQUE_MEALS_PURCH              0\n",
       "CONTACTS_W_CUSTOMER_SERVICE     0\n",
       "PRODUCT_CATEGORIES_VIEWED       0\n",
       "AVG_TIME_PER_SITE_VISIT         0\n",
       "MOBILE_NUMBER                   0\n",
       "CANCELLATIONS_BEFORE_NOON       0\n",
       "CANCELLATIONS_AFTER_NOON        0\n",
       "TASTES_AND_PREFERENCES          0\n",
       "PC_LOGINS                       0\n",
       "MOBILE_LOGINS                   0\n",
       "WEEKLY_PLAN                     0\n",
       "EARLY_DELIVERIES                0\n",
       "LATE_DELIVERIES                 0\n",
       "PACKAGE_LOCKER                  0\n",
       "REFRIGERATED_LOCKER             0\n",
       "AVG_PREP_VID_TIME               0\n",
       "LARGEST_ORDER_SIZE              0\n",
       "MASTER_CLASSES_ATTENDED         0\n",
       "MEDIAN_MEAL_RATING              0\n",
       "AVG_CLICKS_PER_VISIT            0\n",
       "TOTAL_PHOTOS_VIEWED             0\n",
       "dtype: int64"
      ]
     },
     "execution_count": 10,
     "metadata": {},
     "output_type": "execute_result"
    }
   ],
   "source": [
    "#only missing data is at family name feature, which is not very relevant to our goal\n",
    "#we don't need to remove the missing values at this point\n",
    "df_chef.isnull().sum()"
   ]
  },
  {
   "cell_type": "markdown",
   "metadata": {},
   "source": [
    "### TRANSFORMATION"
   ]
  },
  {
   "cell_type": "code",
   "execution_count": 11,
   "metadata": {},
   "outputs": [],
   "source": [
    "# log transforming REVENUE and saving it to the dataset as log_REVENUE\n",
    "# since our Y- variable is skewed, we want to normalize it as much as we can \n",
    "#we transform it into logarithmic form \n",
    "#while transforming some Y variables which are also skewed\n",
    "df_chef['log_REVENUE'] = np.log10(df_chef['REVENUE'])\n",
    "df_chef['log_TOTAL_MEALS_ORDERED'] = np.log10(df_chef['TOTAL_MEALS_ORDERED'])\n",
    "df_chef['log_MEDIAN_MEAL_RATING'] = np.log10(df_chef['MEDIAN_MEAL_RATING'])\n",
    "df_chef['log_CONTACTS_W_CUSTOMER_SERVICE'] = np.log10(df_chef['CONTACTS_W_CUSTOMER_SERVICE'])\n",
    "df_chef['log_AVG_PREP_VID_TIME'] = np.log10(df_chef['AVG_PREP_VID_TIME'])\n",
    "df_chef['log_UNIQUE_MEALS_PURCH'] = np.log10(df_chef['UNIQUE_MEALS_PURCH'])"
   ]
  },
  {
   "cell_type": "code",
   "execution_count": 12,
   "metadata": {},
   "outputs": [
    {
     "name": "stdout",
     "output_type": "stream",
     "text": [
      "                            OLS Regression Results                            \n",
      "==============================================================================\n",
      "Dep. Variable:            log_REVENUE   R-squared:                       0.644\n",
      "Model:                            OLS   Adj. R-squared:                  0.642\n",
      "Method:                 Least Squares   F-statistic:                     437.6\n",
      "Date:                Mon, 18 Jan 2021   Prob (F-statistic):               0.00\n",
      "Time:                        23:13:07   Log-Likelihood:                 1264.0\n",
      "No. Observations:                1946   AIC:                            -2510.\n",
      "Df Residuals:                    1937   BIC:                            -2460.\n",
      "Df Model:                           8                                         \n",
      "Covariance Type:            nonrobust                                         \n",
      "===============================================================================================\n",
      "                                  coef    std err          t      P>|t|      [0.025      0.975]\n",
      "-----------------------------------------------------------------------------------------------\n",
      "Intercept                       2.7878      0.016    173.921      0.000       2.756       2.819\n",
      "TOTAL_MEALS_ORDERED             0.0009   6.42e-05     14.189      0.000       0.001       0.001\n",
      "CONTACTS_W_CUSTOMER_SERVICE    -0.0047      0.001     -3.656      0.000      -0.007      -0.002\n",
      "AVG_PREP_VID_TIME               0.0018      0.000     15.462      0.000       0.002       0.002\n",
      "TOTAL_PHOTOS_VIEWED          8.934e-05   1.82e-05      4.907      0.000    5.36e-05       0.000\n",
      "MEDIAN_MEAL_RATING              0.0891      0.005     19.020      0.000       0.080       0.098\n",
      "MASTER_CLASSES_ATTENDED         0.0385      0.005      7.368      0.000       0.028       0.049\n",
      "LARGEST_ORDER_SIZE             -0.0185      0.003     -5.892      0.000      -0.025      -0.012\n",
      "AVG_TIME_PER_SITE_VISIT        -0.0002   4.83e-05     -4.654      0.000      -0.000      -0.000\n",
      "==============================================================================\n",
      "Omnibus:                      171.419   Durbin-Watson:                   2.058\n",
      "Prob(Omnibus):                  0.000   Jarque-Bera (JB):             1065.004\n",
      "Skew:                          -0.085   Prob(JB):                    5.46e-232\n",
      "Kurtosis:                       6.620   Cond. No.                     1.49e+03\n",
      "==============================================================================\n",
      "\n",
      "Warnings:\n",
      "[1] Standard Errors assume that the covariance matrix of the errors is correctly specified.\n",
      "[2] The condition number is large, 1.49e+03. This might indicate that there are\n",
      "strong multicollinearity or other numerical problems.\n"
     ]
    }
   ],
   "source": [
    "lm_log = smf.ols(formula = \"\"\"log_REVENUE ~ TOTAL_MEALS_ORDERED +\n",
    "                    CONTACTS_W_CUSTOMER_SERVICE + AVG_PREP_VID_TIME + \n",
    "                    TOTAL_PHOTOS_VIEWED + MEDIAN_MEAL_RATING + MASTER_CLASSES_ATTENDED + \n",
    "                    LARGEST_ORDER_SIZE + AVG_TIME_PER_SITE_VISIT\"\"\", \n",
    "              data = df_chef)\n",
    "results_lm_log= lm_log.fit()\n",
    "print(results_lm_log.summary())"
   ]
  },
  {
   "cell_type": "markdown",
   "metadata": {},
   "source": [
    "Revenue is our Y- Variable and is skewed. By logarithmicly transforming our variable we wanted have a variable which is more normally distributed(not very skewed). This transformation will be valuable both for making patterns in the data more interpretable and for helping to meet the assumptions of inferential statistics."
   ]
  },
  {
   "cell_type": "code",
   "execution_count": 13,
   "metadata": {},
   "outputs": [
    {
     "name": "stdout",
     "output_type": "stream",
     "text": [
      "\n",
      "Count of each Cancellation \n",
      "==================\n",
      "----------\n",
      "Cancellation Before Noon\n",
      "----------\n",
      "0     667\n",
      "1     567\n",
      "2     331\n",
      "3     189\n",
      "4     105\n",
      "5      43\n",
      "6      23\n",
      "7      11\n",
      "8       7\n",
      "9       1\n",
      "10      1\n",
      "13      1\n",
      "Name: CANCELLATIONS_BEFORE_NOON, dtype: int64\n",
      "----------\n",
      "Cancellations After Noon\n",
      "----------\n",
      "0    1667\n",
      "1     238\n",
      "2      38\n",
      "3       3\n",
      "Name: CANCELLATIONS_AFTER_NOON, dtype: int64\n",
      "\n"
     ]
    }
   ],
   "source": [
    "#count of each cancellation \n",
    "print(f\"\"\"\n",
    "Count of each Cancellation \n",
    "==================\n",
    "----------\n",
    "Cancellation Before Noon\n",
    "----------\n",
    "{df_chef['CANCELLATIONS_BEFORE_NOON'].value_counts(normalize = False).sort_index()}\n",
    "----------\n",
    "Cancellations After Noon\n",
    "----------\n",
    "{df_chef['CANCELLATIONS_AFTER_NOON'].value_counts(normalize = False).sort_index()}\n",
    "\"\"\")"
   ]
  },
  {
   "cell_type": "markdown",
   "metadata": {},
   "source": [
    "### COMBINE DATA , GET DUMMIES, TEST CORRELATION"
   ]
  },
  {
   "cell_type": "code",
   "execution_count": 14,
   "metadata": {},
   "outputs": [],
   "source": [
    "df_chef[\"TOTAL_CANCELLATION\"] = df_chef[\"CANCELLATIONS_BEFORE_NOON\"] + df_chef[\"CANCELLATIONS_AFTER_NOON\"]/2"
   ]
  },
  {
   "cell_type": "code",
   "execution_count": 15,
   "metadata": {},
   "outputs": [
    {
     "data": {
      "text/plain": [
       "0       7\n",
       "1       6\n",
       "2       7\n",
       "3       7\n",
       "4       6\n",
       "       ..\n",
       "1941    7\n",
       "1942    6\n",
       "1943    7\n",
       "1944    7\n",
       "1945    8\n",
       "Name: TOTAL_LOGINS, Length: 1946, dtype: int64"
      ]
     },
     "execution_count": 15,
     "metadata": {},
     "output_type": "execute_result"
    }
   ],
   "source": [
    "df_chef[\"TOTAL_LOGINS\"] = df_chef[\"PC_LOGINS\"] + df_chef[\"MOBILE_LOGINS\"]\n",
    "df_chef[\"TOTAL_LOGINS\"]"
   ]
  },
  {
   "cell_type": "code",
   "execution_count": 16,
   "metadata": {},
   "outputs": [
    {
     "data": {
      "image/png": "[encoded data removed]",
      "text/plain": [
       "<Figure size 1080x720 with 1 Axes>"
      ]
     },
     "metadata": {
      "needs_background": "light"
     },
     "output_type": "display_data"
    },
    {
     "name": "stdout",
     "output_type": "stream",
     "text": [
      "\n",
      "Cancellation\n",
      "=========\n",
      "-----------\n",
      "Total Cancellations\n",
      "-----------\n",
      "0.0     572\n",
      "0.5      82\n",
      "1.0     514\n",
      "1.5      54\n",
      "2.0     280\n",
      "2.5      54\n",
      "3.0     169\n",
      "3.5      25\n",
      "4.0      88\n",
      "4.5      20\n",
      "5.0      39\n",
      "5.5       4\n",
      "6.0      22\n",
      "6.5       1\n",
      "7.0      11\n",
      "7.5       1\n",
      "8.0       7\n",
      "9.0       1\n",
      "10.0      1\n",
      "13.0      1\n",
      "Name: TOTAL_CANCELLATION, dtype: int64\n",
      "---------------------\n",
      "Cancellation Correlations\n",
      "---------------------\n",
      "CANCELLATIONS_BEFORE_NOON    0.01\n",
      "CANCELLATIONS_AFTER_NOON    -0.04\n",
      "TOTAL_CANCELLATION           0.01\n",
      "REVENUE                      1.00\n",
      "Name: REVENUE, dtype: float64\n",
      "\n"
     ]
    }
   ],
   "source": [
    "# setting figure size\n",
    "fig, ax = plt.subplots(figsize = (15, 10))\n",
    "# developing a boxplot\n",
    "sns.boxplot(x    = \"TOTAL_CANCELLATION\",\n",
    "            y    = \"REVENUE\",\n",
    "            data = df_chef)\n",
    "# titles and labels\n",
    "plt.title(label   = 'Revenue and Total Cancellations')\n",
    "plt.xlabel(xlabel = 'Total Cancellations')\n",
    "plt.ylabel(ylabel = 'Revenue')\n",
    "# displaying the plot\n",
    "plt.tight_layout\n",
    "plt.show()\n",
    "# developing a correlation matrix\n",
    "cancellation_corr = df_chef.loc[ : , ['CANCELLATIONS_BEFORE_NOON',\n",
    "                              'CANCELLATIONS_AFTER_NOON',\n",
    "                              'TOTAL_CANCELLATION',\n",
    "                              'REVENUE']  ].corr(method = 'pearson')\\\n",
    "                                              .round(decimals = 2)\n",
    "# printing value counts and correlations bathrooms\n",
    "print(f\"\"\"\n",
    "Cancellation\n",
    "=========\n",
    "-----------\n",
    "Total Cancellations\n",
    "-----------\n",
    "{df_chef['TOTAL_CANCELLATION'].value_counts(normalize = False).sort_index()}\n",
    "---------------------\n",
    "Cancellation Correlations\n",
    "---------------------\n",
    "{cancellation_corr['REVENUE']}\n",
    "\"\"\")"
   ]
  },
  {
   "cell_type": "markdown",
   "metadata": {},
   "source": [
    "There were two features called CANCELLATIONS_BEFORE_NOON and CANCELLATIONS_AFTER_NOON. So i wanted to combine them into one column. Then checked whether there is a correlation with total cancellation and Revenue. However, I fail to find a good correlation result between two. "
   ]
  },
  {
   "cell_type": "code",
   "execution_count": 17,
   "metadata": {},
   "outputs": [
    {
     "data": {
      "image/png": "[encoded data removed]",
      "text/plain": [
       "<Figure size 1080x720 with 1 Axes>"
      ]
     },
     "metadata": {
      "needs_background": "light"
     },
     "output_type": "display_data"
    },
    {
     "name": "stdout",
     "output_type": "stream",
     "text": [
      "\n",
      "Logins\n",
      "=========\n",
      "\n",
      "-----------\n",
      "Total Logins\n",
      "-----------\n",
      "5     31\n",
      "6    493\n",
      "7    906\n",
      "8    492\n",
      "9     24\n",
      "Name: TOTAL_LOGINS, dtype: int64\n",
      "\n",
      "\n",
      "---------------------\n",
      "Login Correlations\n",
      "---------------------\n",
      "PC_LOGINS        0.02\n",
      "MOBILE_LOGINS   -0.02\n",
      "TOTAL_LOGINS    -0.00\n",
      "REVENUE          1.00\n",
      "Name: REVENUE, dtype: float64\n",
      "\n",
      "\n"
     ]
    }
   ],
   "source": [
    "# setting figure size\n",
    "fig, ax = plt.subplots(figsize = (15, 10))\n",
    "# developing a boxplot\n",
    "sns.boxplot(x    = \"TOTAL_LOGINS\",\n",
    "            y    = \"REVENUE\",\n",
    "            data = df_chef)\n",
    "# titles and labels\n",
    "plt.title(label   = 'Revenue and Total Logins')\n",
    "plt.xlabel(xlabel = 'Total Logins')\n",
    "plt.ylabel(ylabel = 'Revenue')\n",
    "# displaying the plot\n",
    "plt.tight_layout\n",
    "plt.show()\n",
    "## the following code has been written for you ##\n",
    "# developing a correlation matrix\n",
    "login_corr = df_chef.loc[ : , ['PC_LOGINS',\n",
    "                              'MOBILE_LOGINS',\n",
    "                              'TOTAL_LOGINS',\n",
    "                              'REVENUE']  ].corr(method = 'pearson')\\\n",
    "                                              .round(decimals = 2)\n",
    "# printing value counts and correlations bathrooms\n",
    "print(f\"\"\"\n",
    "Logins\n",
    "=========\n",
    "\n",
    "-----------\n",
    "Total Logins\n",
    "-----------\n",
    "{df_chef['TOTAL_LOGINS'].value_counts(normalize = False).sort_index()}\n",
    "\n",
    "\n",
    "---------------------\n",
    "Login Correlations\n",
    "---------------------\n",
    "{login_corr['REVENUE']}\n",
    "\n",
    "\"\"\")"
   ]
  },
  {
   "cell_type": "markdown",
   "metadata": {},
   "source": [
    "There were two features called PC_LOGINS and MOBILE_LOGINS. So i wanted to combine them into one column. Then checked whether there is a correlation with total logins and Revenue. However, I fail to find a good correlation result between two. "
   ]
  },
  {
   "cell_type": "code",
   "execution_count": 18,
   "metadata": {},
   "outputs": [
    {
     "name": "stdout",
     "output_type": "stream",
     "text": [
      "CROSS_SELL_SUCCESS +\n",
      "TOTAL_MEALS_ORDERED +\n",
      "UNIQUE_MEALS_PURCH +\n",
      "CONTACTS_W_CUSTOMER_SERVICE +\n",
      "PRODUCT_CATEGORIES_VIEWED +\n",
      "AVG_TIME_PER_SITE_VISIT +\n",
      "MOBILE_NUMBER +\n",
      "CANCELLATIONS_BEFORE_NOON +\n",
      "CANCELLATIONS_AFTER_NOON +\n",
      "TASTES_AND_PREFERENCES +\n",
      "PC_LOGINS +\n",
      "MOBILE_LOGINS +\n",
      "WEEKLY_PLAN +\n",
      "EARLY_DELIVERIES +\n",
      "LATE_DELIVERIES +\n",
      "PACKAGE_LOCKER +\n",
      "REFRIGERATED_LOCKER +\n",
      "AVG_PREP_VID_TIME +\n",
      "LARGEST_ORDER_SIZE +\n",
      "MASTER_CLASSES_ATTENDED +\n",
      "MEDIAN_MEAL_RATING +\n",
      "AVG_CLICKS_PER_VISIT +\n",
      "TOTAL_PHOTOS_VIEWED +\n",
      "log_REVENUE +\n",
      "log_TOTAL_MEALS_ORDERED +\n",
      "log_MEDIAN_MEAL_RATING +\n",
      "log_CONTACTS_W_CUSTOMER_SERVICE +\n",
      "log_AVG_PREP_VID_TIME +\n",
      "log_UNIQUE_MEALS_PURCH +\n",
      "TOTAL_CANCELLATION +\n",
      "TOTAL_LOGINS +\n"
     ]
    }
   ],
   "source": [
    "chef_explanatory = df_chef.copy()\n",
    "# dropping \n",
    "chef_explanatory = chef_explanatory.drop([       'REVENUE',\n",
    "                                                 'NAME',\n",
    "                                                 'FIRST_NAME',\n",
    "                                                 'EMAIL', \n",
    "                                                 'FAMILY_NAME'], axis = 1)\n",
    "# formatting each explanatory variable for statsmodels\n",
    "for val in chef_explanatory:\n",
    "    print(val, \"+\")"
   ]
  },
  {
   "cell_type": "code",
   "execution_count": 19,
   "metadata": {},
   "outputs": [
    {
     "data": {
      "text/html": [
       "<table class=\"simpletable\">\n",
       "<caption>OLS Regression Results</caption>\n",
       "<tr>\n",
       "  <th>Dep. Variable:</th>         <td>REVENUE</td>     <th>  R-squared:         </th> <td>   0.920</td> \n",
       "</tr>\n",
       "<tr>\n",
       "  <th>Model:</th>                   <td>OLS</td>       <th>  Adj. R-squared:    </th> <td>   0.919</td> \n",
       "</tr>\n",
       "<tr>\n",
       "  <th>Method:</th>             <td>Least Squares</td>  <th>  F-statistic:       </th> <td>   919.8</td> \n",
       "</tr>\n",
       "<tr>\n",
       "  <th>Date:</th>             <td>Mon, 18 Jan 2021</td> <th>  Prob (F-statistic):</th>  <td>  0.00</td>  \n",
       "</tr>\n",
       "<tr>\n",
       "  <th>Time:</th>                 <td>23:13:07</td>     <th>  Log-Likelihood:    </th> <td> -13998.</td> \n",
       "</tr>\n",
       "<tr>\n",
       "  <th>No. Observations:</th>      <td>  1946</td>      <th>  AIC:               </th> <td>2.805e+04</td>\n",
       "</tr>\n",
       "<tr>\n",
       "  <th>Df Residuals:</th>          <td>  1921</td>      <th>  BIC:               </th> <td>2.819e+04</td>\n",
       "</tr>\n",
       "<tr>\n",
       "  <th>Df Model:</th>              <td>    24</td>      <th>                     </th>     <td> </td>    \n",
       "</tr>\n",
       "<tr>\n",
       "  <th>Covariance Type:</th>      <td>nonrobust</td>    <th>                     </th>     <td> </td>    \n",
       "</tr>\n",
       "</table>\n",
       "<table class=\"simpletable\">\n",
       "<tr>\n",
       "               <td></td>                  <th>coef</th>     <th>std err</th>      <th>t</th>      <th>P>|t|</th>  <th>[0.025</th>    <th>0.975]</th>  \n",
       "</tr>\n",
       "<tr>\n",
       "  <th>Intercept</th>                   <td>-1.426e+04</td> <td>  235.986</td> <td>  -60.444</td> <td> 0.000</td> <td>-1.47e+04</td> <td>-1.38e+04</td>\n",
       "</tr>\n",
       "<tr>\n",
       "  <th>CROSS_SELL_SUCCESS</th>          <td>  -20.6208</td> <td>   16.225</td> <td>   -1.271</td> <td> 0.204</td> <td>  -52.441</td> <td>   11.200</td>\n",
       "</tr>\n",
       "<tr>\n",
       "  <th>TOTAL_MEALS_ORDERED</th>         <td>    0.7187</td> <td>    0.177</td> <td>    4.058</td> <td> 0.000</td> <td>    0.371</td> <td>    1.066</td>\n",
       "</tr>\n",
       "<tr>\n",
       "  <th>UNIQUE_MEALS_PURCH</th>          <td>   -3.0275</td> <td>    3.105</td> <td>   -0.975</td> <td> 0.330</td> <td>   -9.117</td> <td>    3.062</td>\n",
       "</tr>\n",
       "<tr>\n",
       "  <th>CONTACTS_W_CUSTOMER_SERVICE</th> <td>   64.8047</td> <td>    3.307</td> <td>   19.598</td> <td> 0.000</td> <td>   58.319</td> <td>   71.290</td>\n",
       "</tr>\n",
       "<tr>\n",
       "  <th>PRODUCT_CATEGORIES_VIEWED</th>   <td>    0.8615</td> <td>    2.432</td> <td>    0.354</td> <td> 0.723</td> <td>   -3.908</td> <td>    5.631</td>\n",
       "</tr>\n",
       "<tr>\n",
       "  <th>AVG_TIME_PER_SITE_VISIT</th>     <td>    0.0825</td> <td>    0.125</td> <td>    0.657</td> <td> 0.511</td> <td>   -0.163</td> <td>    0.328</td>\n",
       "</tr>\n",
       "<tr>\n",
       "  <th>MOBILE_NUMBER</th>               <td>  -24.4118</td> <td>   22.725</td> <td>   -1.074</td> <td> 0.283</td> <td>  -68.980</td> <td>   20.156</td>\n",
       "</tr>\n",
       "<tr>\n",
       "  <th>CANCELLATIONS_BEFORE_NOON</th>   <td>   -1.4492</td> <td>    4.700</td> <td>   -0.308</td> <td> 0.758</td> <td>  -10.667</td> <td>    7.768</td>\n",
       "</tr>\n",
       "<tr>\n",
       "  <th>CANCELLATIONS_AFTER_NOON</th>    <td>    6.4141</td> <td>   15.290</td> <td>    0.419</td> <td> 0.675</td> <td>  -23.573</td> <td>   36.401</td>\n",
       "</tr>\n",
       "<tr>\n",
       "  <th>TASTES_AND_PREFERENCES</th>      <td>   -1.5043</td> <td>   16.418</td> <td>   -0.092</td> <td> 0.927</td> <td>  -33.704</td> <td>   30.695</td>\n",
       "</tr>\n",
       "<tr>\n",
       "  <th>PC_LOGINS</th>                   <td>   11.2602</td> <td>    9.721</td> <td>    1.158</td> <td> 0.247</td> <td>   -7.804</td> <td>   30.325</td>\n",
       "</tr>\n",
       "<tr>\n",
       "  <th>MOBILE_LOGINS</th>               <td>  -13.3137</td> <td>   10.310</td> <td>   -1.291</td> <td> 0.197</td> <td>  -33.533</td> <td>    6.906</td>\n",
       "</tr>\n",
       "<tr>\n",
       "  <th>WEEKLY_PLAN</th>                 <td>   -0.0234</td> <td>    0.545</td> <td>   -0.043</td> <td> 0.966</td> <td>   -1.092</td> <td>    1.045</td>\n",
       "</tr>\n",
       "<tr>\n",
       "  <th>EARLY_DELIVERIES</th>            <td>    6.3620</td> <td>    3.184</td> <td>    1.998</td> <td> 0.046</td> <td>    0.117</td> <td>   12.607</td>\n",
       "</tr>\n",
       "<tr>\n",
       "  <th>LATE_DELIVERIES</th>             <td>    7.1140</td> <td>    2.692</td> <td>    2.643</td> <td> 0.008</td> <td>    1.835</td> <td>   12.393</td>\n",
       "</tr>\n",
       "<tr>\n",
       "  <th>PACKAGE_LOCKER</th>              <td>   12.3900</td> <td>   17.624</td> <td>    0.703</td> <td> 0.482</td> <td>  -22.174</td> <td>   46.954</td>\n",
       "</tr>\n",
       "<tr>\n",
       "  <th>REFRIGERATED_LOCKER</th>         <td>   28.8581</td> <td>   26.630</td> <td>    1.084</td> <td> 0.279</td> <td>  -23.369</td> <td>   81.085</td>\n",
       "</tr>\n",
       "<tr>\n",
       "  <th>AVG_PREP_VID_TIME</th>           <td>    0.6881</td> <td>    0.316</td> <td>    2.175</td> <td> 0.030</td> <td>    0.068</td> <td>    1.309</td>\n",
       "</tr>\n",
       "<tr>\n",
       "  <th>LARGEST_ORDER_SIZE</th>          <td>   -8.3152</td> <td>    8.123</td> <td>   -1.024</td> <td> 0.306</td> <td>  -24.245</td> <td>    7.615</td>\n",
       "</tr>\n",
       "<tr>\n",
       "  <th>MASTER_CLASSES_ATTENDED</th>     <td>  -11.4826</td> <td>   13.644</td> <td>   -0.842</td> <td> 0.400</td> <td>  -38.241</td> <td>   15.276</td>\n",
       "</tr>\n",
       "<tr>\n",
       "  <th>MEDIAN_MEAL_RATING</th>          <td>  -71.9234</td> <td>   20.497</td> <td>   -3.509</td> <td> 0.000</td> <td> -112.122</td> <td>  -31.724</td>\n",
       "</tr>\n",
       "<tr>\n",
       "  <th>AVG_CLICKS_PER_VISIT</th>        <td>  -11.9614</td> <td>    6.176</td> <td>   -1.937</td> <td> 0.053</td> <td>  -24.075</td> <td>    0.152</td>\n",
       "</tr>\n",
       "<tr>\n",
       "  <th>TOTAL_PHOTOS_VIEWED</th>         <td>    0.2838</td> <td>    0.047</td> <td>    6.042</td> <td> 0.000</td> <td>    0.192</td> <td>    0.376</td>\n",
       "</tr>\n",
       "<tr>\n",
       "  <th>log_REVENUE</th>                 <td> 4925.5519</td> <td>   60.155</td> <td>   81.881</td> <td> 0.000</td> <td> 4807.576</td> <td> 5043.528</td>\n",
       "</tr>\n",
       "<tr>\n",
       "  <th>TOTAL_CANCELLATION</th>          <td>    1.7579</td> <td>    4.342</td> <td>    0.405</td> <td> 0.686</td> <td>   -6.758</td> <td>   10.274</td>\n",
       "</tr>\n",
       "<tr>\n",
       "  <th>TOTAL_LOGINS</th>                <td>   -2.0535</td> <td>    6.294</td> <td>   -0.326</td> <td> 0.744</td> <td>  -14.398</td> <td>   10.291</td>\n",
       "</tr>\n",
       "</table>\n",
       "<table class=\"simpletable\">\n",
       "<tr>\n",
       "  <th>Omnibus:</th>       <td>1616.100</td> <th>  Durbin-Watson:     </th> <td>   1.891</td> \n",
       "</tr>\n",
       "<tr>\n",
       "  <th>Prob(Omnibus):</th>  <td> 0.000</td>  <th>  Jarque-Bera (JB):  </th> <td>61240.423</td>\n",
       "</tr>\n",
       "<tr>\n",
       "  <th>Skew:</th>           <td> 3.671</td>  <th>  Prob(JB):          </th> <td>    0.00</td> \n",
       "</tr>\n",
       "<tr>\n",
       "  <th>Kurtosis:</th>       <td>29.483</td>  <th>  Cond. No.          </th> <td>1.18e+16</td> \n",
       "</tr>\n",
       "</table><br/><br/>Warnings:<br/>[1] Standard Errors assume that the covariance matrix of the errors is correctly specified.<br/>[2] The smallest eigenvalue is 9.72e-25. This might indicate that there are<br/>strong multicollinearity problems or that the design matrix is singular."
      ],
      "text/plain": [
       "<class 'statsmodels.iolib.summary.Summary'>\n",
       "\"\"\"\n",
       "                            OLS Regression Results                            \n",
       "==============================================================================\n",
       "Dep. Variable:                REVENUE   R-squared:                       0.920\n",
       "Model:                            OLS   Adj. R-squared:                  0.919\n",
       "Method:                 Least Squares   F-statistic:                     919.8\n",
       "Date:                Mon, 18 Jan 2021   Prob (F-statistic):               0.00\n",
       "Time:                        23:13:07   Log-Likelihood:                -13998.\n",
       "No. Observations:                1946   AIC:                         2.805e+04\n",
       "Df Residuals:                    1921   BIC:                         2.819e+04\n",
       "Df Model:                          24                                         \n",
       "Covariance Type:            nonrobust                                         \n",
       "===============================================================================================\n",
       "                                  coef    std err          t      P>|t|      [0.025      0.975]\n",
       "-----------------------------------------------------------------------------------------------\n",
       "Intercept                   -1.426e+04    235.986    -60.444      0.000   -1.47e+04   -1.38e+04\n",
       "CROSS_SELL_SUCCESS            -20.6208     16.225     -1.271      0.204     -52.441      11.200\n",
       "TOTAL_MEALS_ORDERED             0.7187      0.177      4.058      0.000       0.371       1.066\n",
       "UNIQUE_MEALS_PURCH             -3.0275      3.105     -0.975      0.330      -9.117       3.062\n",
       "CONTACTS_W_CUSTOMER_SERVICE    64.8047      3.307     19.598      0.000      58.319      71.290\n",
       "PRODUCT_CATEGORIES_VIEWED       0.8615      2.432      0.354      0.723      -3.908       5.631\n",
       "AVG_TIME_PER_SITE_VISIT         0.0825      0.125      0.657      0.511      -0.163       0.328\n",
       "MOBILE_NUMBER                 -24.4118     22.725     -1.074      0.283     -68.980      20.156\n",
       "CANCELLATIONS_BEFORE_NOON      -1.4492      4.700     -0.308      0.758     -10.667       7.768\n",
       "CANCELLATIONS_AFTER_NOON        6.4141     15.290      0.419      0.675     -23.573      36.401\n",
       "TASTES_AND_PREFERENCES         -1.5043     16.418     -0.092      0.927     -33.704      30.695\n",
       "PC_LOGINS                      11.2602      9.721      1.158      0.247      -7.804      30.325\n",
       "MOBILE_LOGINS                 -13.3137     10.310     -1.291      0.197     -33.533       6.906\n",
       "WEEKLY_PLAN                    -0.0234      0.545     -0.043      0.966      -1.092       1.045\n",
       "EARLY_DELIVERIES                6.3620      3.184      1.998      0.046       0.117      12.607\n",
       "LATE_DELIVERIES                 7.1140      2.692      2.643      0.008       1.835      12.393\n",
       "PACKAGE_LOCKER                 12.3900     17.624      0.703      0.482     -22.174      46.954\n",
       "REFRIGERATED_LOCKER            28.8581     26.630      1.084      0.279     -23.369      81.085\n",
       "AVG_PREP_VID_TIME               0.6881      0.316      2.175      0.030       0.068       1.309\n",
       "LARGEST_ORDER_SIZE             -8.3152      8.123     -1.024      0.306     -24.245       7.615\n",
       "MASTER_CLASSES_ATTENDED       -11.4826     13.644     -0.842      0.400     -38.241      15.276\n",
       "MEDIAN_MEAL_RATING            -71.9234     20.497     -3.509      0.000    -112.122     -31.724\n",
       "AVG_CLICKS_PER_VISIT          -11.9614      6.176     -1.937      0.053     -24.075       0.152\n",
       "TOTAL_PHOTOS_VIEWED             0.2838      0.047      6.042      0.000       0.192       0.376\n",
       "log_REVENUE                  4925.5519     60.155     81.881      0.000    4807.576    5043.528\n",
       "TOTAL_CANCELLATION              1.7579      4.342      0.405      0.686      -6.758      10.274\n",
       "TOTAL_LOGINS                   -2.0535      6.294     -0.326      0.744     -14.398      10.291\n",
       "==============================================================================\n",
       "Omnibus:                     1616.100   Durbin-Watson:                   1.891\n",
       "Prob(Omnibus):                  0.000   Jarque-Bera (JB):            61240.423\n",
       "Skew:                           3.671   Prob(JB):                         0.00\n",
       "Kurtosis:                      29.483   Cond. No.                     1.18e+16\n",
       "==============================================================================\n",
       "\n",
       "Warnings:\n",
       "[1] Standard Errors assume that the covariance matrix of the errors is correctly specified.\n",
       "[2] The smallest eigenvalue is 9.72e-25. This might indicate that there are\n",
       "strong multicollinearity problems or that the design matrix is singular.\n",
       "\"\"\""
      ]
     },
     "execution_count": 19,
     "metadata": {},
     "output_type": "execute_result"
    }
   ],
   "source": [
    "lm_full = smf.ols(formula = \"\"\"REVENUE ~ CROSS_SELL_SUCCESS +\n",
    "TOTAL_MEALS_ORDERED +\n",
    "UNIQUE_MEALS_PURCH +\n",
    "CONTACTS_W_CUSTOMER_SERVICE +\n",
    "PRODUCT_CATEGORIES_VIEWED +\n",
    "AVG_TIME_PER_SITE_VISIT +\n",
    "MOBILE_NUMBER +\n",
    "CANCELLATIONS_BEFORE_NOON +\n",
    "CANCELLATIONS_AFTER_NOON +\n",
    "TASTES_AND_PREFERENCES +\n",
    "PC_LOGINS +\n",
    "MOBILE_LOGINS +\n",
    "WEEKLY_PLAN +\n",
    "EARLY_DELIVERIES +\n",
    "LATE_DELIVERIES +\n",
    "PACKAGE_LOCKER +\n",
    "REFRIGERATED_LOCKER +\n",
    "AVG_PREP_VID_TIME +\n",
    "LARGEST_ORDER_SIZE +\n",
    "MASTER_CLASSES_ATTENDED +\n",
    "MEDIAN_MEAL_RATING +\n",
    "AVG_CLICKS_PER_VISIT +\n",
    "TOTAL_PHOTOS_VIEWED +\n",
    "log_REVENUE +\n",
    "TOTAL_CANCELLATION +\n",
    "TOTAL_LOGINS\"\"\",\n",
    "                               data = df_chef)\n",
    "\n",
    "\n",
    "# telling Python to run the data through the blueprint\n",
    "results_full = lm_full.fit()\n",
    "\n",
    "\n",
    "# printing the results\n",
    "results_full.summary()"
   ]
  },
  {
   "cell_type": "code",
   "execution_count": 20,
   "metadata": {},
   "outputs": [
    {
     "data": {
      "text/html": [
       "<table class=\"simpletable\">\n",
       "<caption>OLS Regression Results</caption>\n",
       "<tr>\n",
       "  <th>Dep. Variable:</th>         <td>REVENUE</td>     <th>  R-squared:         </th> <td>   0.619</td> \n",
       "</tr>\n",
       "<tr>\n",
       "  <th>Model:</th>                   <td>OLS</td>       <th>  Adj. R-squared:    </th> <td>   0.617</td> \n",
       "</tr>\n",
       "<tr>\n",
       "  <th>Method:</th>             <td>Least Squares</td>  <th>  F-statistic:       </th> <td>   393.1</td> \n",
       "</tr>\n",
       "<tr>\n",
       "  <th>Date:</th>             <td>Mon, 18 Jan 2021</td> <th>  Prob (F-statistic):</th>  <td>  0.00</td>  \n",
       "</tr>\n",
       "<tr>\n",
       "  <th>Time:</th>                 <td>23:13:07</td>     <th>  Log-Likelihood:    </th> <td> -15517.</td> \n",
       "</tr>\n",
       "<tr>\n",
       "  <th>No. Observations:</th>      <td>  1946</td>      <th>  AIC:               </th> <td>3.105e+04</td>\n",
       "</tr>\n",
       "<tr>\n",
       "  <th>Df Residuals:</th>          <td>  1937</td>      <th>  BIC:               </th> <td>3.110e+04</td>\n",
       "</tr>\n",
       "<tr>\n",
       "  <th>Df Model:</th>              <td>     8</td>      <th>                     </th>     <td> </td>    \n",
       "</tr>\n",
       "<tr>\n",
       "  <th>Covariance Type:</th>      <td>nonrobust</td>    <th>                     </th>     <td> </td>    \n",
       "</tr>\n",
       "</table>\n",
       "<table class=\"simpletable\">\n",
       "<tr>\n",
       "               <td></td>                  <th>coef</th>     <th>std err</th>      <th>t</th>      <th>P>|t|</th>  <th>[0.025</th>    <th>0.975]</th>  \n",
       "</tr>\n",
       "<tr>\n",
       "  <th>Intercept</th>                   <td> -759.2393</td> <td>   89.113</td> <td>   -8.520</td> <td> 0.000</td> <td> -934.007</td> <td> -584.471</td>\n",
       "</tr>\n",
       "<tr>\n",
       "  <th>TOTAL_MEALS_ORDERED</th>         <td>    5.1827</td> <td>    0.357</td> <td>   14.515</td> <td> 0.000</td> <td>    4.482</td> <td>    5.883</td>\n",
       "</tr>\n",
       "<tr>\n",
       "  <th>CONTACTS_W_CUSTOMER_SERVICE</th> <td>   41.5677</td> <td>    7.117</td> <td>    5.840</td> <td> 0.000</td> <td>   27.609</td> <td>   55.526</td>\n",
       "</tr>\n",
       "<tr>\n",
       "  <th>AVG_PREP_VID_TIME</th>           <td>    9.5429</td> <td>    0.645</td> <td>   14.806</td> <td> 0.000</td> <td>    8.279</td> <td>   10.807</td>\n",
       "</tr>\n",
       "<tr>\n",
       "  <th>TOTAL_PHOTOS_VIEWED</th>         <td>    0.7227</td> <td>    0.101</td> <td>    7.140</td> <td> 0.000</td> <td>    0.524</td> <td>    0.921</td>\n",
       "</tr>\n",
       "<tr>\n",
       "  <th>MEDIAN_MEAL_RATING</th>          <td>  397.5806</td> <td>   26.039</td> <td>   15.269</td> <td> 0.000</td> <td>  346.513</td> <td>  448.648</td>\n",
       "</tr>\n",
       "<tr>\n",
       "  <th>MASTER_CLASSES_ATTENDED</th>     <td>  177.6569</td> <td>   29.086</td> <td>    6.108</td> <td> 0.000</td> <td>  120.614</td> <td>  234.700</td>\n",
       "</tr>\n",
       "<tr>\n",
       "  <th>LARGEST_ORDER_SIZE</th>          <td>  -98.7392</td> <td>   17.456</td> <td>   -5.657</td> <td> 0.000</td> <td> -132.973</td> <td>  -64.505</td>\n",
       "</tr>\n",
       "<tr>\n",
       "  <th>AVG_TIME_PER_SITE_VISIT</th>     <td>   -1.0510</td> <td>    0.268</td> <td>   -3.916</td> <td> 0.000</td> <td>   -1.577</td> <td>   -0.525</td>\n",
       "</tr>\n",
       "</table>\n",
       "<table class=\"simpletable\">\n",
       "<tr>\n",
       "  <th>Omnibus:</th>       <td>802.706</td> <th>  Durbin-Watson:     </th> <td>   2.019</td>\n",
       "</tr>\n",
       "<tr>\n",
       "  <th>Prob(Omnibus):</th> <td> 0.000</td>  <th>  Jarque-Bera (JB):  </th> <td>8939.024</td>\n",
       "</tr>\n",
       "<tr>\n",
       "  <th>Skew:</th>          <td> 1.623</td>  <th>  Prob(JB):          </th> <td>    0.00</td>\n",
       "</tr>\n",
       "<tr>\n",
       "  <th>Kurtosis:</th>      <td>12.985</td>  <th>  Cond. No.          </th> <td>1.49e+03</td>\n",
       "</tr>\n",
       "</table><br/><br/>Warnings:<br/>[1] Standard Errors assume that the covariance matrix of the errors is correctly specified.<br/>[2] The condition number is large, 1.49e+03. This might indicate that there are<br/>strong multicollinearity or other numerical problems."
      ],
      "text/plain": [
       "<class 'statsmodels.iolib.summary.Summary'>\n",
       "\"\"\"\n",
       "                            OLS Regression Results                            \n",
       "==============================================================================\n",
       "Dep. Variable:                REVENUE   R-squared:                       0.619\n",
       "Model:                            OLS   Adj. R-squared:                  0.617\n",
       "Method:                 Least Squares   F-statistic:                     393.1\n",
       "Date:                Mon, 18 Jan 2021   Prob (F-statistic):               0.00\n",
       "Time:                        23:13:07   Log-Likelihood:                -15517.\n",
       "No. Observations:                1946   AIC:                         3.105e+04\n",
       "Df Residuals:                    1937   BIC:                         3.110e+04\n",
       "Df Model:                           8                                         \n",
       "Covariance Type:            nonrobust                                         \n",
       "===============================================================================================\n",
       "                                  coef    std err          t      P>|t|      [0.025      0.975]\n",
       "-----------------------------------------------------------------------------------------------\n",
       "Intercept                    -759.2393     89.113     -8.520      0.000    -934.007    -584.471\n",
       "TOTAL_MEALS_ORDERED             5.1827      0.357     14.515      0.000       4.482       5.883\n",
       "CONTACTS_W_CUSTOMER_SERVICE    41.5677      7.117      5.840      0.000      27.609      55.526\n",
       "AVG_PREP_VID_TIME               9.5429      0.645     14.806      0.000       8.279      10.807\n",
       "TOTAL_PHOTOS_VIEWED             0.7227      0.101      7.140      0.000       0.524       0.921\n",
       "MEDIAN_MEAL_RATING            397.5806     26.039     15.269      0.000     346.513     448.648\n",
       "MASTER_CLASSES_ATTENDED       177.6569     29.086      6.108      0.000     120.614     234.700\n",
       "LARGEST_ORDER_SIZE            -98.7392     17.456     -5.657      0.000    -132.973     -64.505\n",
       "AVG_TIME_PER_SITE_VISIT        -1.0510      0.268     -3.916      0.000      -1.577      -0.525\n",
       "==============================================================================\n",
       "Omnibus:                      802.706   Durbin-Watson:                   2.019\n",
       "Prob(Omnibus):                  0.000   Jarque-Bera (JB):             8939.024\n",
       "Skew:                           1.623   Prob(JB):                         0.00\n",
       "Kurtosis:                      12.985   Cond. No.                     1.49e+03\n",
       "==============================================================================\n",
       "\n",
       "Warnings:\n",
       "[1] Standard Errors assume that the covariance matrix of the errors is correctly specified.\n",
       "[2] The condition number is large, 1.49e+03. This might indicate that there are\n",
       "strong multicollinearity or other numerical problems.\n",
       "\"\"\""
      ]
     },
     "execution_count": 20,
     "metadata": {},
     "output_type": "execute_result"
    }
   ],
   "source": [
    "lm_full_1 = smf.ols(formula = \"\"\"REVENUE ~ \n",
    "TOTAL_MEALS_ORDERED +\n",
    "CONTACTS_W_CUSTOMER_SERVICE + \n",
    "AVG_PREP_VID_TIME + \n",
    "TOTAL_PHOTOS_VIEWED + \n",
    "MEDIAN_MEAL_RATING + \n",
    "MASTER_CLASSES_ATTENDED + \n",
    "LARGEST_ORDER_SIZE + \n",
    "AVG_TIME_PER_SITE_VISIT\"\"\",\n",
    "                               data = df_chef)\n",
    "\n",
    "\n",
    "# telling Python to run the data through the blueprint\n",
    "results_full_1 = lm_full_1.fit()\n",
    "\n",
    "\n",
    "# printing the results\n",
    "results_full_1.summary()"
   ]
  },
  {
   "cell_type": "markdown",
   "metadata": {},
   "source": [
    "I wanted to check whether there is a correlation between Revenue and the email domain name used by every user. So I ran this code. "
   ]
  },
  {
   "cell_type": "code",
   "execution_count": 21,
   "metadata": {},
   "outputs": [],
   "source": [
    "# placeholder list to store the emails \n",
    "placeholder_lst = []\n",
    "\n",
    "# looping over each email address\n",
    "for index, col in df_chef.iterrows():\n",
    "    \n",
    "    # splitting email domain at '@'\n",
    "    split_email = df_chef.loc[index, 'EMAIL'].split(sep = \"@\")\n",
    "    \n",
    "    # appending placeholder_lst with the results\n",
    "    placeholder_lst.append(split_email)\n",
    "    \n",
    "\n",
    "# converting placeholder_lst into a DataFrame \n",
    "df_chef_email = pd.DataFrame(placeholder_lst)\n",
    "# displaying the results\n",
    "df_chef[\"EMAIL_DOMAIN\"] = df_chef_email[1]"
   ]
  },
  {
   "cell_type": "code",
   "execution_count": 22,
   "metadata": {},
   "outputs": [
    {
     "data": {
      "text/plain": [
       "gmail.com           303\n",
       "protonmail.com      284\n",
       "yahoo.com           274\n",
       "msn.com              72\n",
       "aol.com              69\n",
       "passport.com         64\n",
       "hotmail.com          63\n",
       "live.com             62\n",
       "me.com               59\n",
       "amex.com             30\n",
       "cocacola.com         28\n",
       "jnj.com              28\n",
       "merck.com            28\n",
       "mcdonalds.com        28\n",
       "apple.com            27\n",
       "nike.com             27\n",
       "ibm.com              26\n",
       "dupont.com           26\n",
       "ge.org               26\n",
       "microsoft.com        25\n",
       "chevron.com          25\n",
       "unitedhealth.com     24\n",
       "exxon.com            24\n",
       "travelers.com        24\n",
       "boeing.com           23\n",
       "verizon.com          22\n",
       "caterpillar.com      22\n",
       "mmm.com              22\n",
       "pg.com               22\n",
       "disney.com           21\n",
       "walmart.com          21\n",
       "pfizer.com           20\n",
       "visa.com             20\n",
       "jpmorgan.com         19\n",
       "goldmansacs.com      18\n",
       "cisco.com            18\n",
       "unitedtech.com       18\n",
       "intel.com            17\n",
       "homedepot.com        17\n",
       "Name: EMAIL_DOMAIN, dtype: int64"
      ]
     },
     "execution_count": 22,
     "metadata": {},
     "output_type": "execute_result"
    }
   ],
   "source": [
    "df_chef[\"EMAIL_DOMAIN\"].value_counts()"
   ]
  },
  {
   "cell_type": "markdown",
   "metadata": {},
   "source": [
    "I have come up with the list of name of each email domain and how many users are using it. "
   ]
  },
  {
   "cell_type": "code",
   "execution_count": 23,
   "metadata": {},
   "outputs": [
    {
     "data": {
      "image/png": "[encoded data removed]",
      "text/plain": [
       "<Figure size 720x576 with 1 Axes>"
      ]
     },
     "metadata": {
      "needs_background": "light"
     },
     "output_type": "display_data"
    }
   ],
   "source": [
    "def categorical_boxplots(response, cat_var, data):\n",
    "    fig, ax = plt.subplots(figsize = (10, 8))\n",
    "    \n",
    "    sns.boxplot(x    = response,\n",
    "                y    = cat_var,\n",
    "                data = data)\n",
    "    \n",
    "    plt.suptitle(\"\")\n",
    "    plt.show()\n",
    "categorical_boxplots( response = \"REVENUE\", cat_var = \"EMAIL_DOMAIN\", data = df_chef)"
   ]
  },
  {
   "cell_type": "code",
   "execution_count": 24,
   "metadata": {},
   "outputs": [],
   "source": [
    "EMAIL_DUMMIES = pd.get_dummies(df_chef[\"EMAIL_DOMAIN\"])\n",
    "df_chef = df_chef.drop(\"EMAIL_DOMAIN\", axis = 1)\n",
    "df_chef = df_chef.join([EMAIL_DUMMIES])"
   ]
  },
  {
   "cell_type": "code",
   "execution_count": 25,
   "metadata": {},
   "outputs": [
    {
     "data": {
      "text/plain": [
       "Index(['REVENUE', 'CROSS_SELL_SUCCESS', 'NAME', 'EMAIL', 'FIRST_NAME', 'FAMILY_NAME', 'TOTAL_MEALS_ORDERED', 'UNIQUE_MEALS_PURCH', 'CONTACTS_W_CUSTOMER_SERVICE', 'PRODUCT_CATEGORIES_VIEWED', 'AVG_TIME_PER_SITE_VISIT', 'MOBILE_NUMBER', 'CANCELLATIONS_BEFORE_NOON', 'CANCELLATIONS_AFTER_NOON', 'TASTES_AND_PREFERENCES', 'PC_LOGINS', 'MOBILE_LOGINS', 'WEEKLY_PLAN', 'EARLY_DELIVERIES', 'LATE_DELIVERIES', 'PACKAGE_LOCKER', 'REFRIGERATED_LOCKER', 'AVG_PREP_VID_TIME', 'LARGEST_ORDER_SIZE', 'MASTER_CLASSES_ATTENDED', 'MEDIAN_MEAL_RATING', 'AVG_CLICKS_PER_VISIT', 'TOTAL_PHOTOS_VIEWED', 'log_REVENUE', 'log_TOTAL_MEALS_ORDERED', 'log_MEDIAN_MEAL_RATING', 'log_CONTACTS_W_CUSTOMER_SERVICE', 'log_AVG_PREP_VID_TIME', 'log_UNIQUE_MEALS_PURCH', 'TOTAL_CANCELLATION', 'TOTAL_LOGINS', 'amex.com', 'aol.com', 'apple.com', 'boeing.com', 'caterpillar.com', 'chevron.com', 'cisco.com', 'cocacola.com', 'disney.com', 'dupont.com', 'exxon.com', 'ge.org', 'gmail.com', 'goldmansacs.com', 'homedepot.com',\n",
       "       'hotmail.com', 'ibm.com', 'intel.com', 'jnj.com', 'jpmorgan.com', 'live.com', 'mcdonalds.com', 'me.com', 'merck.com', 'microsoft.com', 'mmm.com', 'msn.com', 'nike.com', 'passport.com', 'pfizer.com', 'pg.com', 'protonmail.com', 'travelers.com', 'unitedhealth.com', 'unitedtech.com', 'verizon.com', 'visa.com', 'walmart.com', 'yahoo.com'],\n",
       "      dtype='object')"
      ]
     },
     "execution_count": 25,
     "metadata": {},
     "output_type": "execute_result"
    }
   ],
   "source": [
    "df_chef.columns"
   ]
  },
  {
   "cell_type": "code",
   "execution_count": 26,
   "metadata": {},
   "outputs": [
    {
     "data": {
      "text/plain": [
       "amex.com            0.01\n",
       "aol.com            -0.01\n",
       "apple.com          -0.01\n",
       "boeing.com         -0.01\n",
       "caterpillar.com     0.02\n",
       "chevron.com         0.01\n",
       "cisco.com          -0.02\n",
       "cocacola.com       -0.04\n",
       "disney.com          0.00\n",
       "dupont.com         -0.02\n",
       "exxon.com           0.04\n",
       "ge.org              0.03\n",
       "gmail.com          -0.01\n",
       "goldmansacs.com    -0.02\n",
       "homedepot.com      -0.00\n",
       "hotmail.com        -0.04\n",
       "ibm.com             0.00\n",
       "intel.com           0.04\n",
       "jnj.com             0.02\n",
       "jpmorgan.com       -0.02\n",
       "live.com            0.01\n",
       "mcdonalds.com       0.00\n",
       "me.com             -0.01\n",
       "merck.com          -0.00\n",
       "microsoft.com      -0.04\n",
       "mmm.com             0.01\n",
       "msn.com            -0.00\n",
       "nike.com           -0.00\n",
       "passport.com       -0.00\n",
       "pfizer.com          0.01\n",
       "pg.com              0.01\n",
       "protonmail.com      0.01\n",
       "travelers.com      -0.01\n",
       "unitedhealth.com    0.01\n",
       "unitedtech.com     -0.01\n",
       "verizon.com        -0.02\n",
       "visa.com            0.04\n",
       "walmart.com         0.02\n",
       "yahoo.com           0.01\n",
       "REVENUE             1.00\n",
       "Name: REVENUE, dtype: float64"
      ]
     },
     "execution_count": 26,
     "metadata": {},
     "output_type": "execute_result"
    }
   ],
   "source": [
    "email_corr = df_chef.loc[ : , ['amex.com', 'aol.com', 'apple.com', 'boeing.com', 'caterpillar.com', 'chevron.com', 'cisco.com', 'cocacola.com', 'disney.com', 'dupont.com', 'exxon.com', 'ge.org', 'gmail.com', 'goldmansacs.com', 'homedepot.com', 'hotmail.com', 'ibm.com', 'intel.com', 'jnj.com', 'jpmorgan.com', 'live.com', 'mcdonalds.com', 'me.com', 'merck.com', 'microsoft.com', 'mmm.com',\n",
    "       'msn.com', 'nike.com', 'passport.com', 'pfizer.com', 'pg.com', 'protonmail.com', 'travelers.com', 'unitedhealth.com', 'unitedtech.com', 'verizon.com', 'visa.com', 'walmart.com', 'yahoo.com', 'REVENUE']  ].corr(method = 'pearson')\\\n",
    "                                              .round(decimals = 2)\n",
    "email_corr[\"REVENUE\"]"
   ]
  },
  {
   "cell_type": "markdown",
   "metadata": {},
   "source": [
    "Created email dummy variable to see the correlation of EACH domain name and Revenue. I found some interesting correlations even though the correlations are not high. "
   ]
  },
  {
   "cell_type": "markdown",
   "metadata": {},
   "source": [
    "### TRAIN TEST SPLIT DATA "
   ]
  },
  {
   "cell_type": "markdown",
   "metadata": {},
   "source": [
    "The objective is to estimate the performance of the machine learning model on new data: data not used to train the model.\n",
    "The first subset is used to fit the model and is referred to as the training dataset. \n",
    "The second subset is not used to train the model; instead, the input element of the dataset is provided to the model, then predictions are made and compared to the expected values. This second dataset is referred to as the test dataset.\n",
    "In this analysis we have used 75% Training and 25% Test data with random state of 219. \n",
    "Prepared my data for further analysis. \n",
    "1) OLS\n",
    "2) LASSO\n",
    "3) ARD\n",
    "4) KNN"
   ]
  },
  {
   "cell_type": "code",
   "execution_count": 27,
   "metadata": {},
   "outputs": [
    {
     "name": "stdout",
     "output_type": "stream",
     "text": [
      "\n",
      "OLS Training Data\n",
      "-----------------\n",
      "X-side: (1459, 15)\n",
      "y-side: (1459,)\n",
      "\n",
      "OLS Testing Data\n",
      "----------------\n",
      "X-side: (487, 15)\n",
      "y-side: (487,)\n",
      "\n",
      "\n",
      "Training Data\n",
      "-------------\n",
      "X-side: (1459, 69)\n",
      "y-side: (1459,)\n",
      "\n",
      "Testing Data\n",
      "------------\n",
      "X-side: (487, 69)\n",
      "y-side: (487,)\n",
      "\n"
     ]
    }
   ],
   "source": [
    "# Preparing my data for train&test split\n",
    "x_variables = ['log_TOTAL_MEALS_ORDERED', 'log_CONTACTS_W_CUSTOMER_SERVICE', 'log_AVG_PREP_VID_TIME', \n",
    "               'TOTAL_PHOTOS_VIEWED', 'log_MEDIAN_MEAL_RATING', 'MASTER_CLASSES_ATTENDED', 'log_UNIQUE_MEALS_PURCH',\n",
    "               'LARGEST_ORDER_SIZE', 'AVG_TIME_PER_SITE_VISIT', 'visa.com', 'microsoft.com', \n",
    "              'intel.com', 'hotmail.com', 'exxon.com', 'cocacola.com', ] # for OLS\n",
    "\n",
    "df_chef_ols = df_chef[x_variables] # explanatory variable data for OLS\n",
    "\n",
    "df_chef_1 = df_chef.drop(['REVENUE', 'NAME', 'EMAIL', \n",
    "                     'FIRST_NAME', 'FAMILY_NAME', 'log_REVENUE'], axis = 1) # explanatory variable data for others\n",
    "\n",
    "df_chef_target_1 = df_chef.loc[ : , 'log_REVENUE'] # response variable\n",
    "df_chef_target = df_chef.loc[ : , 'REVENUE']\n",
    "\n",
    "x_train_OLS, x_test_OLS, y_train_OLS, y_test_OLS = train_test_split(\n",
    "            df_chef_ols,\n",
    "            df_chef_target_1,\n",
    "            test_size = 0.25,\n",
    "            random_state = 219)\n",
    "\n",
    "print(f\"\"\"\n",
    "OLS Training Data\n",
    "-----------------\n",
    "X-side: {x_train_OLS.shape}\n",
    "y-side: {y_train_OLS.shape}\n",
    "\n",
    "OLS Testing Data\n",
    "----------------\n",
    "X-side: {x_test_OLS.shape}\n",
    "y-side: {y_test_OLS.shape}\n",
    "\"\"\")\n",
    "\n",
    "x_train, x_test, y_train, y_test = train_test_split(\n",
    "            df_chef_1,\n",
    "            df_chef_target,\n",
    "            test_size = 0.25,\n",
    "            random_state = 219)\n",
    "\n",
    "print(f\"\"\"\n",
    "Training Data\n",
    "-------------\n",
    "X-side: {x_train.shape}\n",
    "y-side: {y_train.shape}\n",
    "\n",
    "Testing Data\n",
    "------------\n",
    "X-side: {x_test.shape}\n",
    "y-side: {y_test.shape}\n",
    "\"\"\")"
   ]
  },
  {
   "cell_type": "markdown",
   "metadata": {},
   "source": [
    "1) I have used all of my data to test the performance of my linear regression to predict the Revenue by using all of the features. "
   ]
  },
  {
   "cell_type": "code",
   "execution_count": 28,
   "metadata": {},
   "outputs": [
    {
     "name": "stdout",
     "output_type": "stream",
     "text": [
      "Linear Training Score : 0.7181\n",
      "Linear Testing Score  : 0.7177\n",
      "Linear Train-Test Gap : 0.0004\n"
     ]
    }
   ],
   "source": [
    "# INSTANTIATING a model object\n",
    "lr = LinearRegression()\n",
    "\n",
    "\n",
    "# FITTING to the training data\n",
    "lr_fit = lr.fit(x_train, y_train)\n",
    "\n",
    "\n",
    "# PREDICTING on new data\n",
    "lr_pred = lr_fit.predict(x_test)\n",
    "\n",
    "\n",
    "# SCORING the results\n",
    "print('Linear Training Score :', lr.score(x_train, y_train).round(4))  # using R-square\n",
    "print('Linear Testing Score  :',  lr.score(x_test, y_test).round(4)) # using R-square\n",
    "\n",
    "lr_train_score = lr.score(x_train, y_train).round(4)\n",
    "lr_test_score = lr.score(x_test, y_test).round(4)\n",
    "\n",
    "# displaying and saving the gap between training and testing\n",
    "print('Linear Train-Test Gap :', abs(lr_train_score - lr_test_score).round(4))\n",
    "lr_test_gap = abs(lr_train_score - lr_test_score).round(4)"
   ]
  },
  {
   "cell_type": "markdown",
   "metadata": {},
   "source": [
    "I have used my X- Variables as mentioned above which also includes normalized (transformed) variables to test the performance of my linear regression to predict the Revenue by using x- variables only.  "
   ]
  },
  {
   "cell_type": "code",
   "execution_count": 29,
   "metadata": {},
   "outputs": [
    {
     "name": "stdout",
     "output_type": "stream",
     "text": [
      "OLS Training Score : 0.7182\n",
      "OLS Testing Score  : 0.7179\n",
      "Linear Train-Test Gap : 0.0003\n"
     ]
    }
   ],
   "source": [
    "# INSTANTIATING a model object\n",
    "lr = LinearRegression()\n",
    "\n",
    "\n",
    "# FITTING to the training data\n",
    "lr_fit = lr.fit(x_train_OLS, y_train_OLS)\n",
    "\n",
    "\n",
    "# PREDICTING on new data\n",
    "lr_pred = lr_fit.predict(x_test_OLS)\n",
    "\n",
    "\n",
    "# SCORING the results\n",
    "print('OLS Training Score :', lr.score(x_train_OLS, y_train_OLS).round(4))  # using R-square\n",
    "print('OLS Testing Score  :',  lr.score(x_test_OLS, y_test_OLS).round(4)) # using R-square\n",
    "\n",
    "OLS_train_score = lr.score(x_train_OLS, y_train_OLS).round(4)\n",
    "OLS_test_score = lr.score(x_test_OLS, y_test_OLS).round(4)\n",
    "\n",
    "# displaying and saving the gap between training and testing\n",
    "print('Linear Train-Test Gap :', abs(OLS_train_score - OLS_test_score).round(4))\n",
    "OLS_test_gap = abs(OLS_train_score - OLS_test_score).round(4)"
   ]
  },
  {
   "cell_type": "code",
   "execution_count": 30,
   "metadata": {},
   "outputs": [
    {
     "name": "stdout",
     "output_type": "stream",
     "text": [
      "('intercept', 1.48)\n",
      "('log_TOTAL_MEALS_ORDERED', 0.26)\n",
      "('log_CONTACTS_W_CUSTOMER_SERVICE', 0.13)\n",
      "('log_AVG_PREP_VID_TIME', 0.57)\n",
      "('TOTAL_PHOTOS_VIEWED', 0.0)\n",
      "('log_MEDIAN_MEAL_RATING', 0.32)\n",
      "('MASTER_CLASSES_ATTENDED', 0.03)\n",
      "('log_UNIQUE_MEALS_PURCH', -0.17)\n",
      "('LARGEST_ORDER_SIZE', -0.01)\n",
      "('AVG_TIME_PER_SITE_VISIT', -0.0)\n",
      "('visa.com', 0.0)\n",
      "('microsoft.com', -0.04)\n",
      "('intel.com', -0.0)\n",
      "('hotmail.com', -0.02)\n",
      "('exxon.com', 0.02)\n",
      "('cocacola.com', 0.01)\n"
     ]
    }
   ],
   "source": [
    "lr_model_values = zip(df_chef_1[x_variables].columns,\n",
    "                      lr_fit.coef_.round(decimals = 2))\n",
    "# setting up a placeholder list to store model features\n",
    "lr_model_lst = [('intercept', lr_fit.intercept_.round(decimals = 2))]\n",
    "# printing out each feature-coefficient pair one by one\n",
    "for val in lr_model_values:\n",
    "    lr_model_lst.append(val)\n",
    "# checking the results\n",
    "for pair in lr_model_lst:\n",
    "    print(pair)"
   ]
  },
  {
   "cell_type": "markdown",
   "metadata": {},
   "source": [
    "2) Lasso regression not only helps in reducing over-fitting but it can help us in feature selection. So we have run the regression on Revenue with our full dataset. This allowed us to check the coefficients of our variables/ features. After obtaining the coefficients we extracted the ones which has 0 correlation by using loops. "
   ]
  },
  {
   "cell_type": "code",
   "execution_count": 31,
   "metadata": {},
   "outputs": [
    {
     "name": "stdout",
     "output_type": "stream",
     "text": [
      "Lasso Training Score : 0.6523\n",
      "Lasso Testing Score  : 0.6672\n",
      "Lasso Train-Test Gap : 0.0149\n"
     ]
    }
   ],
   "source": [
    "# INSTANTIATING a model object\n",
    "lasso_model = Lasso(alpha = 1.0, #which variables are significant Automatically\n",
    "                                         normalize = True) # default magitude\n",
    "\n",
    "\n",
    "# FITTING to the training data\n",
    "lasso_fit = lasso_model.fit(x_train, y_train)\n",
    "\n",
    "\n",
    "# PREDICTING on new data\n",
    "lasso_pred = lasso_fit.predict(x_test)\n",
    "\n",
    "\n",
    "# SCORING the results\n",
    "print('Lasso Training Score :', lasso_model.score(x_train, y_train).round(4))\n",
    "print('Lasso Testing Score  :', lasso_model.score(x_test, y_test).round(4))\n",
    "\n",
    "\n",
    "## the following code has been provided for you ##\n",
    "\n",
    "# saving scoring data for future use\n",
    "lasso_train_score = lasso_model.score(x_train, y_train).round(4) # using R-square\n",
    "lasso_test_score  = lasso_model.score(x_test, y_test).round(4)   # using R-square\n",
    "\n",
    "\n",
    "# displaying and saving the gap between training and testing\n",
    "print('Lasso Train-Test Gap :', abs(lasso_train_score - lasso_test_score).round(4))\n",
    "lasso_test_gap = abs(lasso_train_score - lasso_test_score).round(4)"
   ]
  },
  {
   "cell_type": "code",
   "execution_count": 32,
   "metadata": {},
   "outputs": [
    {
     "name": "stdout",
     "output_type": "stream",
     "text": [
      "('intercept', -921.57)\n",
      "('CROSS_SELL_SUCCESS', -0.0)\n",
      "('TOTAL_MEALS_ORDERED', 2.8)\n",
      "('UNIQUE_MEALS_PURCH', 0.0)\n",
      "('CONTACTS_W_CUSTOMER_SERVICE', 0.0)\n",
      "('PRODUCT_CATEGORIES_VIEWED', 0.0)\n",
      "('AVG_TIME_PER_SITE_VISIT', -0.0)\n",
      "('MOBILE_NUMBER', 0.0)\n",
      "('CANCELLATIONS_BEFORE_NOON', 0.0)\n",
      "('CANCELLATIONS_AFTER_NOON', -0.0)\n",
      "('TASTES_AND_PREFERENCES', 0.0)\n",
      "('PC_LOGINS', -0.0)\n",
      "('MOBILE_LOGINS', -0.0)\n",
      "('WEEKLY_PLAN', 0.0)\n",
      "('EARLY_DELIVERIES', -0.0)\n",
      "('LATE_DELIVERIES', 0.0)\n",
      "('PACKAGE_LOCKER', -0.0)\n",
      "('REFRIGERATED_LOCKER', -0.0)\n",
      "('AVG_PREP_VID_TIME', 6.02)\n",
      "('LARGEST_ORDER_SIZE', -0.0)\n",
      "('MASTER_CLASSES_ATTENDED', 136.73)\n",
      "('MEDIAN_MEAL_RATING', 277.1)\n",
      "('AVG_CLICKS_PER_VISIT', -17.51)\n",
      "('TOTAL_PHOTOS_VIEWED', 0.62)\n",
      "('log_TOTAL_MEALS_ORDERED', 602.44)\n",
      "('log_MEDIAN_MEAL_RATING', 0.0)\n",
      "('log_CONTACTS_W_CUSTOMER_SERVICE', 762.85)\n",
      "('log_AVG_PREP_VID_TIME', 0.0)\n",
      "('log_UNIQUE_MEALS_PURCH', -768.27)\n",
      "('TOTAL_CANCELLATION', 0.0)\n",
      "('TOTAL_LOGINS', -0.0)\n",
      "('amex.com', -0.0)\n",
      "('aol.com', 0.0)\n",
      "('apple.com', -0.0)\n",
      "('boeing.com', 0.0)\n",
      "('caterpillar.com', 0.0)\n",
      "('chevron.com', -0.0)\n",
      "('cisco.com', 0.0)\n",
      "('cocacola.com', 0.0)\n",
      "('disney.com', -0.0)\n",
      "('dupont.com', -0.0)\n",
      "('exxon.com', 0.0)\n",
      "('ge.org', -0.0)\n",
      "('gmail.com', -0.0)\n",
      "('goldmansacs.com', 0.0)\n",
      "('homedepot.com', -0.0)\n",
      "('hotmail.com', -0.0)\n",
      "('ibm.com', -0.0)\n",
      "('intel.com', 0.0)\n",
      "('jnj.com', 0.0)\n",
      "('jpmorgan.com', -0.0)\n",
      "('live.com', 0.0)\n",
      "('mcdonalds.com', 0.0)\n",
      "('me.com', -0.0)\n",
      "('merck.com', -0.0)\n",
      "('microsoft.com', -0.0)\n",
      "('mmm.com', 0.0)\n",
      "('msn.com', -0.0)\n",
      "('nike.com', 0.0)\n",
      "('passport.com', 0.0)\n",
      "('pfizer.com', 0.0)\n",
      "('pg.com', 0.0)\n",
      "('protonmail.com', -0.0)\n",
      "('travelers.com', -0.0)\n",
      "('unitedhealth.com', 0.0)\n",
      "('unitedtech.com', -0.0)\n",
      "('verizon.com', -0.0)\n",
      "('visa.com', 0.0)\n",
      "('walmart.com', 0.0)\n",
      "('yahoo.com', 0.0)\n"
     ]
    }
   ],
   "source": [
    "# zipping each feature name to its coefficient\n",
    "lasso_model_values = zip(df_chef_1.columns, lasso_fit.coef_.round(decimals = 2))\n",
    "\n",
    "\n",
    "# setting up a placeholder list to store model features\n",
    "lasso_model_lst = [('intercept', lasso_fit.intercept_.round(decimals = 2))]\n",
    "\n",
    "\n",
    "# printing out each feature-coefficient pair one by one\n",
    "for val in lasso_model_values:\n",
    "    lasso_model_lst.append(val)\n",
    "    \n",
    "\n",
    "# checking the results\n",
    "for pair in lasso_model_lst:\n",
    "    print(pair)"
   ]
  },
  {
   "cell_type": "code",
   "execution_count": 33,
   "metadata": {},
   "outputs": [
    {
     "name": "stdout",
     "output_type": "stream",
     "text": [
      "('intercept', -921.57)\n",
      "('TOTAL_MEALS_ORDERED', 2.8)\n",
      "('CONTACTS_W_CUSTOMER_SERVICE', 0.0)\n",
      "('AVG_TIME_PER_SITE_VISIT', -0.0)\n",
      "('CANCELLATIONS_BEFORE_NOON', 0.0)\n",
      "('TASTES_AND_PREFERENCES', 0.0)\n",
      "('MOBILE_LOGINS', -0.0)\n",
      "('EARLY_DELIVERIES', -0.0)\n",
      "('PACKAGE_LOCKER', -0.0)\n",
      "('AVG_PREP_VID_TIME', 6.02)\n",
      "('MASTER_CLASSES_ATTENDED', 136.73)\n",
      "('MEDIAN_MEAL_RATING', 277.1)\n",
      "('AVG_CLICKS_PER_VISIT', -17.51)\n",
      "('TOTAL_PHOTOS_VIEWED', 0.62)\n",
      "('log_TOTAL_MEALS_ORDERED', 602.44)\n",
      "('log_CONTACTS_W_CUSTOMER_SERVICE', 762.85)\n",
      "('log_UNIQUE_MEALS_PURCH', -768.27)\n",
      "('TOTAL_LOGINS', -0.0)\n",
      "('aol.com', 0.0)\n",
      "('boeing.com', 0.0)\n",
      "('chevron.com', -0.0)\n",
      "('cocacola.com', 0.0)\n",
      "('dupont.com', -0.0)\n",
      "('ge.org', -0.0)\n",
      "('goldmansacs.com', 0.0)\n",
      "('hotmail.com', -0.0)\n",
      "('intel.com', 0.0)\n",
      "('jpmorgan.com', -0.0)\n",
      "('mcdonalds.com', 0.0)\n",
      "('merck.com', -0.0)\n",
      "('mmm.com', 0.0)\n",
      "('nike.com', 0.0)\n",
      "('pfizer.com', 0.0)\n",
      "('protonmail.com', -0.0)\n",
      "('unitedhealth.com', 0.0)\n",
      "('verizon.com', -0.0)\n",
      "('walmart.com', 0.0)\n"
     ]
    }
   ],
   "source": [
    "# dropping coefficients that are equal to zero\n",
    "\n",
    "# printing out each feature-coefficient pair one by one\n",
    "for feature, coefficient in lasso_model_lst:\n",
    "        \n",
    "        if coefficient == 0:\n",
    "            lasso_model_lst.remove((feature, coefficient))\n",
    "\n",
    "            \n",
    "# checking the results\n",
    "for pair in lasso_model_lst:\n",
    "    print(pair)"
   ]
  },
  {
   "cell_type": "markdown",
   "metadata": {},
   "source": [
    "3) ARD fits our regression model into Bayesian model. Compared to the OLS (ordinary least squares) estimator, the coefficient weights are slightly shifted toward zeros, which stabilizes them."
   ]
  },
  {
   "cell_type": "code",
   "execution_count": 34,
   "metadata": {},
   "outputs": [
    {
     "name": "stdout",
     "output_type": "stream",
     "text": [
      "ARD Training Score: 0.7137\n",
      "ARD Testing Score : 0.7258\n",
      "ARD Train-Test Gap : 0.0121\n"
     ]
    }
   ],
   "source": [
    "# INSTANTIATING a model object\n",
    "ard_model = ARDRegression()\n",
    "\n",
    "\n",
    "# FITTING the training data\n",
    "ard_fit = ard_model.fit(x_train, y_train)\n",
    "\n",
    "\n",
    "# PREDICTING on new data\n",
    "ard_pred = ard_fit.predict(x_test)\n",
    "\n",
    "\n",
    "print('ARD Training Score:', ard_model.score(x_train, y_train).round(decimals = 4))\n",
    "print('ARD Testing Score :',  ard_model.score(x_test, y_test).round(decimals = 4))\n",
    "\n",
    "\n",
    "# saving scoring data for future use\n",
    "ard_train_score = ard_model.score(x_train, y_train).round(decimals = 4)\n",
    "ard_test_score  = ard_model.score(x_test, y_test).round(decimals = 4)\n",
    "\n",
    "\n",
    "# displaying and saving the gap between training and testing\n",
    "print('ARD Train-Test Gap :', abs(ard_train_score - ard_test_score).round(4))\n",
    "ard_test_gap = abs(ard_train_score - ard_test_score).round(4)"
   ]
  },
  {
   "cell_type": "code",
   "execution_count": 35,
   "metadata": {},
   "outputs": [
    {
     "name": "stdout",
     "output_type": "stream",
     "text": [
      "('intercept', -2074.43)\n",
      "('CROSS_SELL_SUCCESS', -70.63517)\n",
      "('TOTAL_MEALS_ORDERED', -0.47947)\n",
      "('UNIQUE_MEALS_PURCH', 270.52475)\n",
      "('CONTACTS_W_CUSTOMER_SERVICE', 70.71072)\n",
      "('PRODUCT_CATEGORIES_VIEWED', 4.6458)\n",
      "('AVG_TIME_PER_SITE_VISIT', 5e-05)\n",
      "('MOBILE_NUMBER', 0.00014)\n",
      "('CANCELLATIONS_BEFORE_NOON', 0.00104)\n",
      "('CANCELLATIONS_AFTER_NOON', 0.00014)\n",
      "('TASTES_AND_PREFERENCES', 21.8289)\n",
      "('PC_LOGINS', -0.00057)\n",
      "('MOBILE_LOGINS', -9.62192)\n",
      "('WEEKLY_PLAN', 0.00078)\n",
      "('EARLY_DELIVERIES', -0.00235)\n",
      "('LATE_DELIVERIES', 0.00238)\n",
      "('PACKAGE_LOCKER', -0.00191)\n",
      "('REFRIGERATED_LOCKER', -0.02483)\n",
      "('AVG_PREP_VID_TIME', 7.77239)\n",
      "('LARGEST_ORDER_SIZE', -78.08)\n",
      "('MASTER_CLASSES_ATTENDED', 156.578)\n",
      "('MEDIAN_MEAL_RATING', 965.49228)\n",
      "('AVG_CLICKS_PER_VISIT', -0.00019)\n",
      "('TOTAL_PHOTOS_VIEWED', 0.69277)\n",
      "('log_TOTAL_MEALS_ORDERED', 1332.47476)\n",
      "('log_MEDIAN_MEAL_RATING', -3643.76538)\n",
      "('log_CONTACTS_W_CUSTOMER_SERVICE', 0.00044)\n",
      "('log_AVG_PREP_VID_TIME', 0.00019)\n",
      "('log_UNIQUE_MEALS_PURCH', -3279.79253)\n",
      "('TOTAL_CANCELLATION', 0.00106)\n",
      "('TOTAL_LOGINS', -8.04429)\n",
      "('amex.com', -0.00065)\n",
      "('aol.com', 0.00046)\n",
      "('apple.com', -0.00047)\n",
      "('boeing.com', 0.00781)\n",
      "('caterpillar.com', 38.95592)\n",
      "('chevron.com', -0.00067)\n",
      "('cisco.com', 38.30098)\n",
      "('cocacola.com', 0.00094)\n",
      "('disney.com', -0.00015)\n",
      "('dupont.com', 6e-05)\n",
      "('exxon.com', 173.59834)\n",
      "('ge.org', -7e-05)\n",
      "('gmail.com', -0.00039)\n",
      "('goldmansacs.com', 0.00069)\n",
      "('homedepot.com', -0.00183)\n",
      "('hotmail.com', -51.48622)\n",
      "('ibm.com', -1e-05)\n",
      "('intel.com', 0.00202)\n",
      "('jnj.com', -0.00012)\n",
      "('jpmorgan.com', 0.0002)\n",
      "('live.com', 0.00019)\n",
      "('mcdonalds.com', 0.00069)\n",
      "('me.com', -8.61236)\n",
      "('merck.com', -124.05399)\n",
      "('microsoft.com', -0.00047)\n",
      "('mmm.com', 0.00015)\n",
      "('msn.com', -0.00175)\n",
      "('nike.com', 0.00038)\n",
      "('passport.com', 0.0012)\n",
      "('pfizer.com', 12.29046)\n",
      "('pg.com', 0.00235)\n",
      "('protonmail.com', -0.00166)\n",
      "('travelers.com', -127.62933)\n",
      "('unitedhealth.com', 132.00468)\n",
      "('unitedtech.com', -0.00178)\n",
      "('verizon.com', -47.42639)\n",
      "('visa.com', -0.00078)\n",
      "('walmart.com', 5.02292)\n",
      "('yahoo.com', 35.37469)\n"
     ]
    }
   ],
   "source": [
    "# zipping each feature name to its coefficient\n",
    "ard_model_values = zip(df_chef_1.columns, ard_fit.coef_.round(decimals = 5))\n",
    "\n",
    "\n",
    "# setting up a placeholder list to store model features\n",
    "ard_model_lst = [('intercept', ard_fit.intercept_.round(decimals = 2))]\n",
    "\n",
    "\n",
    "# printing out each feature-coefficient pair one by one\n",
    "for val in ard_model_values:\n",
    "    ard_model_lst.append(val)\n",
    "    \n",
    "\n",
    "# checking the results\n",
    "for pair in ard_model_lst:\n",
    "    print(pair)"
   ]
  },
  {
   "cell_type": "code",
   "execution_count": 36,
   "metadata": {},
   "outputs": [
    {
     "name": "stdout",
     "output_type": "stream",
     "text": [
      "('intercept', -2074.43)\n",
      "('CROSS_SELL_SUCCESS', -70.63517)\n",
      "('TOTAL_MEALS_ORDERED', -0.47947)\n",
      "('UNIQUE_MEALS_PURCH', 270.52475)\n",
      "('CONTACTS_W_CUSTOMER_SERVICE', 70.71072)\n",
      "('PRODUCT_CATEGORIES_VIEWED', 4.6458)\n",
      "('AVG_TIME_PER_SITE_VISIT', 5e-05)\n",
      "('MOBILE_NUMBER', 0.00014)\n",
      "('CANCELLATIONS_BEFORE_NOON', 0.00104)\n",
      "('CANCELLATIONS_AFTER_NOON', 0.00014)\n",
      "('TASTES_AND_PREFERENCES', 21.8289)\n",
      "('PC_LOGINS', -0.00057)\n",
      "('MOBILE_LOGINS', -9.62192)\n",
      "('WEEKLY_PLAN', 0.00078)\n",
      "('EARLY_DELIVERIES', -0.00235)\n",
      "('LATE_DELIVERIES', 0.00238)\n",
      "('PACKAGE_LOCKER', -0.00191)\n",
      "('REFRIGERATED_LOCKER', -0.02483)\n",
      "('AVG_PREP_VID_TIME', 7.77239)\n",
      "('LARGEST_ORDER_SIZE', -78.08)\n",
      "('MASTER_CLASSES_ATTENDED', 156.578)\n",
      "('MEDIAN_MEAL_RATING', 965.49228)\n",
      "('AVG_CLICKS_PER_VISIT', -0.00019)\n",
      "('TOTAL_PHOTOS_VIEWED', 0.69277)\n",
      "('log_TOTAL_MEALS_ORDERED', 1332.47476)\n",
      "('log_MEDIAN_MEAL_RATING', -3643.76538)\n",
      "('log_CONTACTS_W_CUSTOMER_SERVICE', 0.00044)\n",
      "('log_AVG_PREP_VID_TIME', 0.00019)\n",
      "('log_UNIQUE_MEALS_PURCH', -3279.79253)\n",
      "('TOTAL_CANCELLATION', 0.00106)\n",
      "('TOTAL_LOGINS', -8.04429)\n",
      "('amex.com', -0.00065)\n",
      "('aol.com', 0.00046)\n",
      "('apple.com', -0.00047)\n",
      "('boeing.com', 0.00781)\n",
      "('caterpillar.com', 38.95592)\n",
      "('chevron.com', -0.00067)\n",
      "('cisco.com', 38.30098)\n",
      "('cocacola.com', 0.00094)\n",
      "('disney.com', -0.00015)\n",
      "('dupont.com', 6e-05)\n",
      "('exxon.com', 173.59834)\n",
      "('ge.org', -7e-05)\n",
      "('gmail.com', -0.00039)\n",
      "('goldmansacs.com', 0.00069)\n",
      "('homedepot.com', -0.00183)\n",
      "('hotmail.com', -51.48622)\n",
      "('ibm.com', -1e-05)\n",
      "('intel.com', 0.00202)\n",
      "('jnj.com', -0.00012)\n",
      "('jpmorgan.com', 0.0002)\n",
      "('live.com', 0.00019)\n",
      "('mcdonalds.com', 0.00069)\n",
      "('me.com', -8.61236)\n",
      "('merck.com', -124.05399)\n",
      "('microsoft.com', -0.00047)\n",
      "('mmm.com', 0.00015)\n",
      "('msn.com', -0.00175)\n",
      "('nike.com', 0.00038)\n",
      "('passport.com', 0.0012)\n",
      "('pfizer.com', 12.29046)\n",
      "('pg.com', 0.00235)\n",
      "('protonmail.com', -0.00166)\n",
      "('travelers.com', -127.62933)\n",
      "('unitedhealth.com', 132.00468)\n",
      "('unitedtech.com', -0.00178)\n",
      "('verizon.com', -47.42639)\n",
      "('visa.com', -0.00078)\n",
      "('walmart.com', 5.02292)\n",
      "('yahoo.com', 35.37469)\n"
     ]
    }
   ],
   "source": [
    "# dropping coefficients that are equal to zero\n",
    "\n",
    "# printing out each feature-coefficient pair one by one\n",
    "for feature, coefficient in ard_model_lst:\n",
    "        \n",
    "        if coefficient == 0:\n",
    "            ard_model_lst.remove((feature, coefficient))\n",
    "\n",
    "            \n",
    "# checking the results\n",
    "for pair in ard_model_lst:\n",
    "    print(pair)"
   ]
  },
  {
   "cell_type": "markdown",
   "metadata": {},
   "source": [
    "4) K nearest neighbors is a simple algorithm that stores all available cases and classifies new cases based on a similarity measure. So we use number of neighbors to understand where does the new data belong to by using our training and testing data. "
   ]
  },
  {
   "cell_type": "code",
   "execution_count": 37,
   "metadata": {},
   "outputs": [],
   "source": [
    "x_train, x_test, y_train, y_test = train_test_split(\n",
    "            df_chef_1,\n",
    "            df_chef_target_1,\n",
    "            test_size = 0.25,\n",
    "            random_state = 219)"
   ]
  },
  {
   "cell_type": "code",
   "execution_count": 38,
   "metadata": {},
   "outputs": [
    {
     "data": {
      "image/png": "[encoded data removed]",
      "text/plain": [
       "<Figure size 864x576 with 1 Axes>"
      ]
     },
     "metadata": {
      "needs_background": "light"
     },
     "output_type": "display_data"
    },
    {
     "name": "stdout",
     "output_type": "stream",
     "text": [
      "The optimal number of neighbors is 12\n"
     ]
    }
   ],
   "source": [
    "# creating lists for training set accuracy and test set accuracy\n",
    "training_accuracy = []\n",
    "test_accuracy     = []\n",
    "\n",
    "\n",
    "# building a visualization of 1 to 50 neighbors\n",
    "neighbors_settings = range(1, 51)\n",
    "\n",
    "\n",
    "for n_neighbors in neighbors_settings:\n",
    "    # Building the model\n",
    "    clf = KNeighborsRegressor(n_neighbors = n_neighbors)\n",
    "    clf.fit(x_train, y_train)\n",
    "    \n",
    "    # Recording the training set accuracy\n",
    "    training_accuracy.append(clf.score(x_train, y_train))\n",
    "    \n",
    "    # Recording the generalization accuracy\n",
    "    test_accuracy.append(clf.score(x_test, y_test))\n",
    "\n",
    "\n",
    "# plotting the visualization\n",
    "fig, ax = plt.subplots(figsize=(12,8))\n",
    "plt.plot(neighbors_settings, training_accuracy, label = \"training accuracy\")\n",
    "plt.plot(neighbors_settings, test_accuracy, label = \"test accuracy\")\n",
    "plt.ylabel(\"Accuracy\")\n",
    "plt.xlabel(\"n_neighbors\")\n",
    "plt.legend()\n",
    "plt.show()\n",
    "\n",
    "# finding the optimal number of neighbors\n",
    "opt_neighbors = test_accuracy.index(max(test_accuracy)) + 1\n",
    "print(f\"\"\"The optimal number of neighbors is {opt_neighbors}\"\"\")"
   ]
  },
  {
   "cell_type": "code",
   "execution_count": 39,
   "metadata": {},
   "outputs": [
    {
     "name": "stdout",
     "output_type": "stream",
     "text": [
      "KNN Training Score: 0.6756\n",
      "KNN Testing Score : 0.6639\n",
      "KNN Train-Test Gap: 0.0117\n"
     ]
    }
   ],
   "source": [
    "knn_reg = KNeighborsRegressor(algorithm = 'auto', #auto detect version in KNN fit best for our model \n",
    "                              n_neighbors = opt_neighbors) #optimal n-neighbors (using output from above)\n",
    "\n",
    "\n",
    "# FITTING to the training data\n",
    "knn_fit = knn_reg.fit(x_train, y_train)\n",
    "\n",
    "\n",
    "# PREDICTING on new data\n",
    "knn_reg_pred = knn_fit.predict(x_test)\n",
    "\n",
    "\n",
    "# SCORING the results\n",
    "print('KNN Training Score:', knn_reg.score(x_train, y_train).round(4))\n",
    "print('KNN Testing Score :',  knn_reg.score(x_test, y_test).round(4))\n",
    "\n",
    "\n",
    "# saving scoring data for future use\n",
    "knn_opt_score_train = knn_reg.score(x_train, y_train).round(4)\n",
    "knn_opt_score_test  = knn_reg.score(x_test, y_test).round(4)\n",
    "\n",
    "\n",
    "# displaying and saving the gap between training and testing\n",
    "print('KNN Train-Test Gap:', abs(knn_opt_score_train - knn_opt_score_test).round(4))\n",
    "knn_opt_test_gap = abs(knn_opt_score_train - knn_opt_score_test).round(4)"
   ]
  },
  {
   "cell_type": "code",
   "execution_count": 40,
   "metadata": {},
   "outputs": [
    {
     "name": "stdout",
     "output_type": "stream",
     "text": [
      "KNN w Training Score : 0.5511\n",
      "KNN w Testing Score  : 0.542\n",
      "KNN w Train-Test Gap : 0.0091\n"
     ]
    }
   ],
   "source": [
    "scaler = StandardScaler()\n",
    "scaler.fit(df_chef_1)\n",
    "x_scaled = scaler.transform(df_chef_1)\n",
    "x_scaled_df = pd.DataFrame(x_scaled)\n",
    "x_scaled_df.columns = df_chef_1.columns\n",
    "x_scaled_df.describe().round(2)\n",
    "# Creating train&test set using Standardized Dataset\n",
    "x_train_std, x_test_std, y_train_std, y_test_std = train_test_split(\n",
    "            x_scaled_df,\n",
    "            df_chef_target_1,\n",
    "            test_size = 0.25,\n",
    "            random_state = 219)\n",
    "\n",
    "# Finding the optimal number of neighbors\n",
    "training_accuracy_std = []\n",
    "test_accuracy_std = []\n",
    "\n",
    "neighbors_settings_std = range(1, 51)\n",
    "\n",
    "for n_neighbors in neighbors_settings_std:\n",
    "    clf = KNeighborsRegressor(n_neighbors = n_neighbors)\n",
    "    clf.fit(x_train_std, y_train_std)\n",
    "    training_accuracy_std.append(clf.score(x_train_std, y_train_std))\n",
    "    test_accuracy_std.append(clf.score(x_test_std, y_test_std))\n",
    "    \n",
    "opt_neighbors_std = test_accuracy_std.index(max(test_accuracy_std)) + 1\n",
    "\n",
    "knn_w = KNeighborsRegressor(algorithm = \"auto\", n_neighbors = opt_neighbors_std)\n",
    "knn_w_fit = knn_w.fit(x_train_std, y_train_std)\n",
    "knn_w_y_predict = knn_w_fit.predict(x_test_std)\n",
    "\n",
    "knn_w_train_score = knn_w.score(x_train_std, y_train_std).round(4)\n",
    "knn_w_test_score  = knn_w.score(x_test_std, y_test_std).round(4)\n",
    "knn_w_test_gap = abs(knn_w_train_score - knn_w_test_score).round(4)\n",
    "\n",
    "print('KNN w Training Score :', knn_w_train_score)  \n",
    "print('KNN w Testing Score  :',  knn_w_test_score) \n",
    "print('KNN w Train-Test Gap :', knn_w_test_gap)"
   ]
  },
  {
   "cell_type": "code",
   "execution_count": 41,
   "metadata": {},
   "outputs": [
    {
     "name": "stdout",
     "output_type": "stream",
     "text": [
      "\n",
      "Model      Train Score      Test Score      Gap             Model Size      \n",
      "-----      -----------      ----------      ----------      ----------     \n",
      "OLS        0.7182           0.7179           0.0003           16           \n",
      "Lasso      0.6523           0.6672           0.0149         37\n",
      "ARD        0.7137           0.7258           0.0121         70\n",
      "KNN        0.6756           0.6639           0.0117         N/A\n",
      "KNN Stand  0.5511           0.542           0.0091           N/A\n",
      "\n"
     ]
    }
   ],
   "source": [
    "print(f\"\"\"\n",
    "Model      Train Score      Test Score      Gap             Model Size      \n",
    "-----      -----------      ----------      ----------      ----------     \n",
    "OLS        {OLS_train_score}           {OLS_test_score}           {OLS_test_gap}           {len(lr_model_lst)}           \n",
    "Lasso      {lasso_train_score}           {lasso_test_score}           {lasso_test_gap}         {len(lasso_model_lst)}\n",
    "ARD        {ard_train_score}           {ard_test_score}           {ard_test_gap}         {len(ard_model_lst)}\n",
    "KNN        {knn_opt_score_train}           {knn_opt_score_test}           {knn_opt_test_gap}         {\"N/A\"}\n",
    "KNN Stand  {knn_w_train_score}           {knn_w_test_score}           {knn_w_test_gap}           {\"N/A\"}\n",
    "\"\"\")\n",
    "\n",
    "\n",
    "# creating a dictionary for model results\n",
    "model_performance = {\n",
    "    \n",
    "    'Model Type'    : ['OLS', 'Lasso', 'ARD', 'KNN', 'KNN Standardized'],\n",
    "           \n",
    "    'Training' : [OLS_train_score, lasso_train_score,\n",
    "                                   ard_train_score, knn_opt_score_train, knn_w_train_score],\n",
    "           \n",
    "    'Testing'  : [OLS_test_score, lasso_test_score,\n",
    "                                   ard_test_score, knn_opt_score_test, knn_w_test_score],\n",
    "                    \n",
    "    'Train-Test Gap' : [OLS_test_gap, lasso_test_gap,\n",
    "                                        ard_test_gap, knn_opt_test_gap, knn_w_test_gap],\n",
    "                    \n",
    "    'Model Size' : [len(lr_model_lst), len(lasso_model_lst),\n",
    "                                    len(ard_model_lst), \"N/A\", \"N/A\"],\n",
    "                    \n",
    "    'Model' : [lr_model_lst, lasso_model_lst, ard_model_lst, \"N/A\", \"N/A\"]}"
   ]
  },
  {
   "cell_type": "markdown",
   "metadata": {},
   "source": [
    "### COMPARISON OF MODELS\n",
    "By only looking at the performance of my test scores I should have picked ARD model as my primary model, because it has 0.73 performance on the Test Score. \n",
    "On the other hand, when we look at the gap between our training and testing score I can say that **OLS** model is outstanding and has the lead amongst other models. \n",
    "With smaller model size and less gap and very close testing score pushed me to pick **OLS** as my primary model to conclude this analysis on the REVENUE. \n",
    "**OLS** is used for estimating the unknown parameters by creating a model which will minimize the sum of the squared errors between the observed data and the predicted one. **OLS** in this particular analysis got the test score very similar to the training score. \n",
    "**OLS** prediction of data would be better than other models in this case. "
   ]
  },
  {
   "cell_type": "code",
   "execution_count": null,
   "metadata": {},
   "outputs": [],
   "source": []
  }
 ],
 "metadata": {
  "kernelspec": {
   "display_name": "Python 3",
   "language": "python",
   "name": "python3"
  },
  "language_info": {
   "codemirror_mode": {
    "name": "ipython",
    "version": 3
   },
   "file_extension": ".py",
   "mimetype": "text/x-python",
   "name": "python",
   "nbconvert_exporter": "python",
   "pygments_lexer": "ipython3",
   "version": "3.8.3"
  },
  "toc": {
   "base_numbering": 1,
   "nav_menu": {},
   "number_sections": true,
   "sideBar": true,
   "skip_h1_title": false,
   "title_cell": "Table of Contents",
   "title_sidebar": "Contents",
   "toc_cell": false,
   "toc_position": {},
   "toc_section_display": true,
   "toc_window_display": false
  },
  "varInspector": {
   "cols": {
    "lenName": 16,
    "lenType": 16,
    "lenVar": 40
   },
   "kernels_config": {
    "python": {
     "delete_cmd_postfix": "",
     "delete_cmd_prefix": "del ",
     "library": "var_list.py",
     "varRefreshCmd": "print(var_dic_list())"
    },
    "r": {
     "delete_cmd_postfix": ") ",
     "delete_cmd_prefix": "rm(",
     "library": "var_list.r",
     "varRefreshCmd": "cat(var_dic_list()) "
    }
   },
   "types_to_exclude": [
    "module",
    "function",
    "builtin_function_or_method",
    "instance",
    "_Feature"
   ],
   "window_display": false
  }
 },
 "nbformat": 4,
 "nbformat_minor": 4
}
